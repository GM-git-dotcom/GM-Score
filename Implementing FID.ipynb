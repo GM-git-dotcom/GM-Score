{
 "cells": [
  {
   "cell_type": "code",
   "execution_count": 22,
   "metadata": {},
   "outputs": [],
   "source": [
    "# example of calculating the frechet inception distance in Keras\n",
    "import numpy\n",
    "from numpy import cov\n",
    "from numpy import trace\n",
    "from numpy import iscomplexobj\n",
    "from numpy import asarray\n",
    "from numpy.random import randint\n",
    "from scipy.linalg import sqrtm\n",
    "from keras.applications.inception_v3 import InceptionV3\n",
    "from keras.applications.inception_v3 import preprocess_input\n",
    "from keras.datasets.mnist import load_data\n",
    "from skimage.transform import resize\n",
    "from keras.datasets import cifar10"
   ]
  },
  {
   "cell_type": "code",
   "execution_count": 2,
   "metadata": {},
   "outputs": [],
   "source": [
    "# scale an array of images to a new size\n",
    "def scale_images(images, new_shape):\n",
    "\timages_list = list()\n",
    "\tfor image in images:\n",
    "\t\t# resize with nearest neighbor interpolation\n",
    "\t\tnew_image = resize(image, new_shape, 0)\n",
    "\t\t# store\n",
    "\t\timages_list.append(new_image)\n",
    "\treturn asarray(images_list)"
   ]
  },
  {
   "cell_type": "code",
   "execution_count": 3,
   "metadata": {},
   "outputs": [],
   "source": [
    "# calculate frechet inception distance\n",
    "def calculate_fid(model, images1, images2):\n",
    "\t# calculate activations\n",
    "\tact1 = model.predict(images1)\n",
    "\tact2 = model.predict(images2)\n",
    "\t# calculate mean and covariance statistics\n",
    "\tmu1, sigma1 = act1.mean(axis=0), cov(act1, rowvar=False)\n",
    "\tmu2, sigma2 = act2.mean(axis=0), cov(act2, rowvar=False)\n",
    "\t# calculate sum squared difference between means\n",
    "\tssdiff = numpy.sum((mu1 - mu2)**2.0)\n",
    "\t# calculate sqrt of product between cov\n",
    "\tcovmean = sqrtm(sigma1.dot(sigma2))\n",
    "\t# check and correct imaginary numbers from sqrt\n",
    "\tif iscomplexobj(covmean):\n",
    "\t\tcovmean = covmean.real\n",
    "\t# calculate score\n",
    "\tfid = ssdiff + trace(sigma1 + sigma2 - 2.0 * covmean)\n",
    "\treturn fid"
   ]
  },
  {
   "cell_type": "code",
   "execution_count": 4,
   "metadata": {},
   "outputs": [],
   "source": [
    "# prepare the inception v3 model\n",
    "model = InceptionV3(include_top=False, pooling='avg', input_shape=(299,299,3))\n",
    "# define two fake collections of images"
   ]
  },
  {
   "cell_type": "code",
   "execution_count": 53,
   "metadata": {},
   "outputs": [],
   "source": [
    "batch_size = 826 #this is for BiGAN\n",
    "img_height = 217\n",
    "img_width = 217"
   ]
  },
  {
   "cell_type": "code",
   "execution_count": 9,
   "metadata": {},
   "outputs": [],
   "source": [
    "import tensorflow as tf\n",
    "import keras"
   ]
  },
  {
   "cell_type": "code",
   "execution_count": 54,
   "metadata": {},
   "outputs": [
    {
     "name": "stdout",
     "output_type": "stream",
     "text": [
      "Found 10000 images belonging to 10 classes.\n"
     ]
    }
   ],
   "source": [
    "bigan_gen = keras.preprocessing.image.ImageDataGenerator()\n",
    "bigan_data = bigan_gen.flow_from_directory(\n",
    "  r'C:/Users/KIIT/AppData/Local/Programs/Python/Python36/Scripts/Untitled Folder 2/BiGAN Images/Classes', \n",
    "    target_size=(img_height, img_width), \n",
    "    batch_size=batch_size)\n"
   ]
  },
  {
   "cell_type": "code",
   "execution_count": 55,
   "metadata": {},
   "outputs": [],
   "source": [
    "bigan_zeros = bigan_data.next()"
   ]
  },
  {
   "cell_type": "code",
   "execution_count": 23,
   "metadata": {},
   "outputs": [],
   "source": [
    "(images1, _), (images2, _) = cifar10.load_data()"
   ]
  },
  {
   "cell_type": "code",
   "execution_count": 24,
   "metadata": {},
   "outputs": [
    {
     "data": {
      "text/plain": [
       "(50000, 32, 32, 3)"
      ]
     },
     "execution_count": 24,
     "metadata": {},
     "output_type": "execute_result"
    }
   ],
   "source": [
    "images1.shape"
   ]
  },
  {
   "cell_type": "code",
   "execution_count": 56,
   "metadata": {},
   "outputs": [],
   "source": [
    "bigan_zeros = np.asarray(bigan_zeros[0])"
   ]
  },
  {
   "cell_type": "code",
   "execution_count": 57,
   "metadata": {},
   "outputs": [
    {
     "data": {
      "text/plain": [
       "(826, 217, 217, 3)"
      ]
     },
     "execution_count": 57,
     "metadata": {},
     "output_type": "execute_result"
    }
   ],
   "source": [
    "bigan_zeros.shape #DONE!"
   ]
  },
  {
   "cell_type": "code",
   "execution_count": 59,
   "metadata": {},
   "outputs": [
    {
     "name": "stdout",
     "output_type": "stream",
     "text": [
      "Found 8398 images belonging to 10 classes.\n"
     ]
    }
   ],
   "source": [
    "real_gen = keras.preprocessing.image.ImageDataGenerator()\n",
    "real_data = real_data.flow_from_directory(\n",
    "  r'C:\\Users\\KIIT\\AppData\\Local\\Programs\\Python\\Python36\\Scripts\\MNIST as jpg\\test_set', \n",
    "    target_size=(img_height, img_width), \n",
    "    batch_size=batch_size)"
   ]
  },
  {
   "cell_type": "code",
   "execution_count": 60,
   "metadata": {},
   "outputs": [
    {
     "data": {
      "text/plain": [
       "(826, 217, 217, 3)"
      ]
     },
     "execution_count": 60,
     "metadata": {},
     "output_type": "execute_result"
    }
   ],
   "source": [
    "real_zeros = real_data.next()\n",
    "real_zeros = np.asarray(real_zeros[0])\n",
    "real_zeros.shape #DONE!"
   ]
  },
  {
   "cell_type": "code",
   "execution_count": 61,
   "metadata": {},
   "outputs": [
    {
     "name": "stdout",
     "output_type": "stream",
     "text": [
      "Loaded (826, 217, 217, 3) (826, 217, 217, 3)\n"
     ]
    }
   ],
   "source": [
    "print('Loaded', real_zeros.shape, bigan_zeros.shape)"
   ]
  },
  {
   "cell_type": "code",
   "execution_count": 62,
   "metadata": {},
   "outputs": [],
   "source": [
    "images1 = real_zeros\n",
    "images2 = bigan_zeros\n",
    "\n",
    "images1 = images1.astype('float32')\n",
    "images2 = images2.astype('float32')"
   ]
  },
  {
   "cell_type": "code",
   "execution_count": 63,
   "metadata": {},
   "outputs": [
    {
     "name": "stdout",
     "output_type": "stream",
     "text": [
      "Scaled (826, 299, 299, 3) (826, 299, 299, 3)\n"
     ]
    }
   ],
   "source": [
    "# resize images\n",
    "images1 = scale_images(images1, (299,299,3))\n",
    "images2 = scale_images(images2, (299,299,3))\n",
    "print('Scaled', images1.shape, images2.shape)"
   ]
  },
  {
   "cell_type": "code",
   "execution_count": 64,
   "metadata": {},
   "outputs": [],
   "source": [
    "# pre-process images\n",
    "images1 = preprocess_input(images1)\n",
    "images2 = preprocess_input(images2)"
   ]
  },
  {
   "cell_type": "code",
   "execution_count": 65,
   "metadata": {},
   "outputs": [
    {
     "name": "stdout",
     "output_type": "stream",
     "text": [
      "FID: 133.675\n"
     ]
    }
   ],
   "source": [
    "fid = calculate_fid(model, images1, images2)\n",
    "print('FID: %.3f' % fid) #bigan zeros"
   ]
  },
  {
   "cell_type": "code",
   "execution_count": 71,
   "metadata": {},
   "outputs": [],
   "source": [
    "import os\n",
    "def get_image_counts(path1, path2):\n",
    "    onlyfiles1 = next(os.walk(path1))[2]\n",
    "    onlyfiles2 = next(os.walk(path2))[2]\n",
    "    return len(onlyfiles1), len(onlyfiles2)\n",
    "real_path = r'C:\\Users\\KIIT\\AppData\\Local\\Programs\\Python\\Python36\\Scripts\\MNIST as jpg\\test_set'"
   ]
  },
  {
   "cell_type": "code",
   "execution_count": 177,
   "metadata": {},
   "outputs": [
    {
     "name": "stdout",
     "output_type": "stream",
     "text": [
      "Found 10055 images belonging to 10 classes.\n",
      "Found 8398 images belonging to 10 classes.\n",
      "Loaded (826, 217, 217, 3) (826, 217, 217, 3)\n",
      "WGAN_Improved zeros FID: 110.077\n"
     ]
    }
   ],
   "source": [
    "def zeros_zeros():\n",
    "    \n",
    "    bigan_gen = keras.preprocessing.image.ImageDataGenerator()\n",
    "    bigan_data = bigan_gen.flow_from_directory(r'C:\\Users\\KIIT\\AppData\\Local\\Programs\\Python\\Python36\\Scripts\\Untitled Folder 2\\WGAN_Improved\\Classes', \n",
    "    target_size=(img_height, img_width), \n",
    "    batch_size=min(get_image_counts(real_path+r'\\0', r'C:\\Users\\KIIT\\AppData\\Local\\Programs\\Python\\Python36\\Scripts\\Untitled Folder 2\\WGAN_Improved\\Classes\\0')))\n",
    "    bigan_zeros = bigan_data.next()\n",
    "    \n",
    "    bigan_zeros = np.asarray(bigan_zeros[0])\n",
    "\n",
    "    \n",
    "    real_gen = keras.preprocessing.image.ImageDataGenerator()\n",
    "    real_data = real_gen.flow_from_directory(r'C:\\Users\\KIIT\\AppData\\Local\\Programs\\Python\\Python36\\Scripts\\MNIST as jpg\\test_set', \n",
    "    target_size=(img_height, img_width), \n",
    "    batch_size=min(get_image_counts(real_path+r'\\0', r'C:\\Users\\KIIT\\AppData\\Local\\Programs\\Python\\Python36\\Scripts\\Untitled Folder 2\\WGAN_Improved\\Classes\\0')))\n",
    "    \n",
    "    #####\n",
    "    \n",
    "    real_zeros = real_data.next()\n",
    "    real_zeros = np.asarray(real_zeros[0])\n",
    "    \n",
    "    print('Loaded', real_zeros.shape, bigan_zeros.shape)\n",
    "    \n",
    "    images1 = real_zeros\n",
    "    images2 = bigan_zeros\n",
    "\n",
    "    images1 = images1.astype('float32')\n",
    "    images2 = images2.astype('float32')\n",
    "    images1 = scale_images(images1, (299,299,3))\n",
    "    images2 = scale_images(images2, (299,299,3))\n",
    "    \n",
    "    # pre-process images\n",
    "    images1 = preprocess_input(images1)\n",
    "    images2 = preprocess_input(images2)\n",
    "    \n",
    "    fid = calculate_fid(model, images1, images2)\n",
    "    print('WGAN_Improved zeros FID: %.3f' % fid)\n",
    "    \n",
    "zeros_zeros()"
   ]
  },
  {
   "cell_type": "code",
   "execution_count": 178,
   "metadata": {},
   "outputs": [
    {
     "name": "stdout",
     "output_type": "stream",
     "text": [
      "Found 9179 images belonging to 9 classes.\n",
      "Found 7572 images belonging to 9 classes.\n",
      "Loaded (936, 217, 217, 3) (936, 217, 217, 3)\n",
      "WGAN_Improved ones FID: 110.974\n"
     ]
    }
   ],
   "source": [
    "def ones_ones():\n",
    "    cur_dir = r'C:\\Users\\KIIT\\AppData\\Local\\Programs\\Python\\Python36\\Scripts\\Untitled Folder 2\\WGAN_Improved\\Classes'\n",
    "    L = ['0']\n",
    "\n",
    "    list_dir = os.listdir(cur_dir)\n",
    "    dest = r'C:\\Users\\KIIT\\AppData\\Local\\Programs\\Python\\Python36\\Scripts\\Untitled Folder 2\\WGAN_Improved\\reserve'\n",
    "\n",
    "    for sub_dir in list_dir:\n",
    "        if sub_dir in L:\n",
    "            dir_to_move = os.path.join(cur_dir, sub_dir)\n",
    "            shutil.move(dir_to_move, dest)\n",
    "            \n",
    "    #####\n",
    "    \n",
    "    bigan_gen = keras.preprocessing.image.ImageDataGenerator()\n",
    "    bigan_data = bigan_gen.flow_from_directory(r'C:\\Users\\KIIT\\AppData\\Local\\Programs\\Python\\Python36\\Scripts\\Untitled Folder 2\\WGAN_Improved\\Classes', \n",
    "    target_size=(img_height, img_width), \n",
    "    batch_size=min(get_image_counts(real_path+r'\\1', r'C:\\Users\\KIIT\\AppData\\Local\\Programs\\Python\\Python36\\Scripts\\Untitled Folder 2\\WGAN_Improved\\Classes\\1')))\n",
    "    bigan_ones = bigan_data.next()\n",
    "    \n",
    "    bigan_ones = np.asarray(bigan_ones[0])\n",
    "    \n",
    "    #####\n",
    "    \n",
    "    cur_dir = r'C:\\Users\\KIIT\\AppData\\Local\\Programs\\Python\\Python36\\Scripts\\MNIST as jpg\\test_set'\n",
    "    L = ['0']\n",
    "\n",
    "    list_dir = os.listdir(cur_dir)\n",
    "    dest = r'C:\\Users\\KIIT\\AppData\\Local\\Programs\\Python\\Python36\\Scripts\\MNIST as jpg\\reserve'\n",
    "\n",
    "    for sub_dir in list_dir:\n",
    "        if sub_dir in L:\n",
    "            dir_to_move = os.path.join(cur_dir, sub_dir)\n",
    "            shutil.move(dir_to_move, dest)\n",
    "    ######\n",
    "    \n",
    "    real_gen = keras.preprocessing.image.ImageDataGenerator()\n",
    "    real_data = real_gen.flow_from_directory(r'C:\\Users\\KIIT\\AppData\\Local\\Programs\\Python\\Python36\\Scripts\\MNIST as jpg\\test_set', \n",
    "    target_size=(img_height, img_width), \n",
    "    batch_size=min(get_image_counts(real_path+r'\\1', r'C:\\Users\\KIIT\\AppData\\Local\\Programs\\Python\\Python36\\Scripts\\Untitled Folder 2\\WGAN_Improved\\Classes\\1')))\n",
    "    \n",
    "    #####\n",
    "    \n",
    "    real_ones = real_data.next()\n",
    "    real_ones = np.asarray(real_ones[0])\n",
    "    \n",
    "    print('Loaded', real_ones.shape, bigan_ones.shape)\n",
    "    \n",
    "    images1 = real_ones\n",
    "    images2 = bigan_ones\n",
    "\n",
    "    images1 = images1.astype('float32')\n",
    "    images2 = images2.astype('float32')\n",
    "    images1 = scale_images(images1, (299,299,3))\n",
    "    images2 = scale_images(images2, (299,299,3))\n",
    "    \n",
    "    # pre-process images\n",
    "    images1 = preprocess_input(images1)\n",
    "    images2 = preprocess_input(images2)\n",
    "    \n",
    "    fid = calculate_fid(model, images1, images2)\n",
    "    print('WGAN_Improved ones FID: %.3f' % fid)\n",
    "    \n",
    "ones_ones()"
   ]
  },
  {
   "cell_type": "code",
   "execution_count": 179,
   "metadata": {},
   "outputs": [
    {
     "name": "stdout",
     "output_type": "stream",
     "text": [
      "Found 8156 images belonging to 8 classes.\n",
      "Found 6636 images belonging to 8 classes.\n",
      "Loaded (835, 217, 217, 3) (835, 217, 217, 3)\n",
      "WGAN_Improved twos FID: 124.061\n"
     ]
    }
   ],
   "source": [
    "def twos_twos():\n",
    "    cur_dir = r'C:\\Users\\KIIT\\AppData\\Local\\Programs\\Python\\Python36\\Scripts\\Untitled Folder 2\\WGAN_Improved\\Classes'\n",
    "    L = ['1']\n",
    "\n",
    "    list_dir = os.listdir(cur_dir)\n",
    "    dest = r'C:\\Users\\KIIT\\AppData\\Local\\Programs\\Python\\Python36\\Scripts\\Untitled Folder 2\\WGAN_Improved\\reserve'\n",
    "\n",
    "    for sub_dir in list_dir:\n",
    "        if sub_dir in L:\n",
    "            dir_to_move = os.path.join(cur_dir, sub_dir)\n",
    "            shutil.move(dir_to_move, dest)\n",
    "            \n",
    "    #####\n",
    "    \n",
    "    bigan_gen = keras.preprocessing.image.ImageDataGenerator()\n",
    "    bigan_data = bigan_gen.flow_from_directory(r'C:\\Users\\KIIT\\AppData\\Local\\Programs\\Python\\Python36\\Scripts\\Untitled Folder 2\\WGAN_Improved\\Classes', \n",
    "    target_size=(img_height, img_width), \n",
    "    batch_size=min(get_image_counts(real_path+r'\\2', r'C:\\Users\\KIIT\\AppData\\Local\\Programs\\Python\\Python36\\Scripts\\Untitled Folder 2\\WGAN_Improved\\Classes\\2')))\n",
    "    bigan_twos = bigan_data.next()\n",
    "    \n",
    "    bigan_twos = np.asarray(bigan_twos[0])\n",
    "    \n",
    "    #####\n",
    "    \n",
    "    cur_dir = r'C:\\Users\\KIIT\\AppData\\Local\\Programs\\Python\\Python36\\Scripts\\MNIST as jpg\\test_set'\n",
    "    L = ['1']\n",
    "\n",
    "    list_dir = os.listdir(cur_dir)\n",
    "    dest = r'C:\\Users\\KIIT\\AppData\\Local\\Programs\\Python\\Python36\\Scripts\\MNIST as jpg\\reserve'\n",
    "\n",
    "    for sub_dir in list_dir:\n",
    "        if sub_dir in L:\n",
    "            dir_to_move = os.path.join(cur_dir, sub_dir)\n",
    "            shutil.move(dir_to_move, dest)\n",
    "    ######\n",
    "    \n",
    "    real_gen = keras.preprocessing.image.ImageDataGenerator()\n",
    "    real_data = real_gen.flow_from_directory(r'C:\\Users\\KIIT\\AppData\\Local\\Programs\\Python\\Python36\\Scripts\\MNIST as jpg\\test_set', \n",
    "    target_size=(img_height, img_width), \n",
    "    batch_size=min(get_image_counts(real_path+r'\\2', r'C:\\Users\\KIIT\\AppData\\Local\\Programs\\Python\\Python36\\Scripts\\Untitled Folder 2\\WGAN_Improved\\Classes\\2')))\n",
    "    \n",
    "    #####\n",
    "    \n",
    "    real_twos = real_data.next()\n",
    "    real_twos = np.asarray(real_twos[0])\n",
    "    \n",
    "    print('Loaded', real_twos.shape, bigan_twos.shape)\n",
    "    \n",
    "    images1 = real_twos\n",
    "    images2 = bigan_twos\n",
    "\n",
    "    images1 = images1.astype('float32')\n",
    "    images2 = images2.astype('float32')\n",
    "    images1 = scale_images(images1, (299,299,3))\n",
    "    images2 = scale_images(images2, (299,299,3))\n",
    "    \n",
    "    # pre-process images\n",
    "    images1 = preprocess_input(images1)\n",
    "    images2 = preprocess_input(images2)\n",
    "    \n",
    "    fid = calculate_fid(model, images1, images2)\n",
    "    print('WGAN_Improved twos FID: %.3f' % fid)\n",
    "    \n",
    "twos_twos()"
   ]
  },
  {
   "cell_type": "code",
   "execution_count": 180,
   "metadata": {},
   "outputs": [
    {
     "name": "stdout",
     "output_type": "stream",
     "text": [
      "Found 7027 images belonging to 7 classes.\n",
      "Found 5801 images belonging to 7 classes.\n",
      "Loaded (870, 217, 217, 3) (870, 217, 217, 3)\n",
      "WGAN_Improved threes FID: 115.370\n"
     ]
    }
   ],
   "source": [
    "def threes_threes():\n",
    "    cur_dir = r'C:\\Users\\KIIT\\AppData\\Local\\Programs\\Python\\Python36\\Scripts\\Untitled Folder 2\\WGAN_Improved\\Classes'\n",
    "    L = ['2']\n",
    "\n",
    "    list_dir = os.listdir(cur_dir)\n",
    "    dest = r'C:\\Users\\KIIT\\AppData\\Local\\Programs\\Python\\Python36\\Scripts\\Untitled Folder 2\\WGAN_Improved\\reserve'\n",
    "\n",
    "    for sub_dir in list_dir:\n",
    "        if sub_dir in L:\n",
    "            dir_to_move = os.path.join(cur_dir, sub_dir)\n",
    "            shutil.move(dir_to_move, dest)\n",
    "            \n",
    "    #####\n",
    "    \n",
    "    bigan_gen = keras.preprocessing.image.ImageDataGenerator()\n",
    "    bigan_data = bigan_gen.flow_from_directory(r'C:\\Users\\KIIT\\AppData\\Local\\Programs\\Python\\Python36\\Scripts\\Untitled Folder 2\\WGAN_Improved\\Classes', \n",
    "    target_size=(img_height, img_width), \n",
    "    batch_size=min(get_image_counts(real_path+r'\\3', r'C:\\Users\\KIIT\\AppData\\Local\\Programs\\Python\\Python36\\Scripts\\Untitled Folder 2\\WGAN_Improved\\Classes\\3')))\n",
    "    bigan_threes = bigan_data.next()\n",
    "    \n",
    "    bigan_threes = np.asarray(bigan_threes[0])\n",
    "    \n",
    "    #####\n",
    "    \n",
    "    cur_dir = r'C:\\Users\\KIIT\\AppData\\Local\\Programs\\Python\\Python36\\Scripts\\MNIST as jpg\\test_set'\n",
    "    L = ['2']\n",
    "\n",
    "    list_dir = os.listdir(cur_dir)\n",
    "    dest = r'C:\\Users\\KIIT\\AppData\\Local\\Programs\\Python\\Python36\\Scripts\\MNIST as jpg\\reserve'\n",
    "\n",
    "    for sub_dir in list_dir:\n",
    "        if sub_dir in L:\n",
    "            dir_to_move = os.path.join(cur_dir, sub_dir)\n",
    "            shutil.move(dir_to_move, dest)\n",
    "    ######\n",
    "    \n",
    "    real_gen = keras.preprocessing.image.ImageDataGenerator()\n",
    "    real_data = real_gen.flow_from_directory(r'C:\\Users\\KIIT\\AppData\\Local\\Programs\\Python\\Python36\\Scripts\\MNIST as jpg\\test_set', \n",
    "    target_size=(img_height, img_width), \n",
    "    batch_size=min(get_image_counts(real_path+r'\\3', r'C:\\Users\\KIIT\\AppData\\Local\\Programs\\Python\\Python36\\Scripts\\Untitled Folder 2\\WGAN_Improved\\Classes\\3')))\n",
    "    \n",
    "    #####\n",
    "    \n",
    "    real_threes = real_data.next()\n",
    "    real_threes = np.asarray(real_threes[0])\n",
    "    \n",
    "    print('Loaded', real_threes.shape, bigan_threes.shape)\n",
    "    \n",
    "    images1 = real_threes\n",
    "    images2 = bigan_threes\n",
    "\n",
    "    images1 = images1.astype('float32')\n",
    "    images2 = images2.astype('float32')\n",
    "    images1 = scale_images(images1, (299,299,3))\n",
    "    images2 = scale_images(images2, (299,299,3))\n",
    "    \n",
    "    # pre-process images\n",
    "    images1 = preprocess_input(images1)\n",
    "    images2 = preprocess_input(images2)\n",
    "    \n",
    "    fid = calculate_fid(model, images1, images2)\n",
    "    print('WGAN_Improved threes FID: %.3f' % fid)\n",
    "    \n",
    "threes_threes()"
   ]
  },
  {
   "cell_type": "code",
   "execution_count": 181,
   "metadata": {},
   "outputs": [
    {
     "name": "stdout",
     "output_type": "stream",
     "text": [
      "Found 5836 images belonging to 6 classes.\n",
      "Found 4931 images belonging to 6 classes.\n",
      "Loaded (814, 217, 217, 3) (814, 217, 217, 3)\n",
      "WGAN_Improved fours FID: 112.208\n"
     ]
    }
   ],
   "source": [
    "def fours_fours():\n",
    "    cur_dir = r'C:\\Users\\KIIT\\AppData\\Local\\Programs\\Python\\Python36\\Scripts\\Untitled Folder 2\\WGAN_Improved\\Classes'\n",
    "    L = ['3']\n",
    "\n",
    "    list_dir = os.listdir(cur_dir)\n",
    "    dest = r'C:\\Users\\KIIT\\AppData\\Local\\Programs\\Python\\Python36\\Scripts\\Untitled Folder 2\\WGAN_Improved\\reserve'\n",
    "\n",
    "    for sub_dir in list_dir:\n",
    "        if sub_dir in L:\n",
    "            dir_to_move = os.path.join(cur_dir, sub_dir)\n",
    "            shutil.move(dir_to_move, dest)\n",
    "            \n",
    "    #####\n",
    "    \n",
    "    bigan_gen = keras.preprocessing.image.ImageDataGenerator()\n",
    "    bigan_data = bigan_gen.flow_from_directory(r'C:\\Users\\KIIT\\AppData\\Local\\Programs\\Python\\Python36\\Scripts\\Untitled Folder 2\\WGAN_Improved\\Classes', \n",
    "    target_size=(img_height, img_width), \n",
    "    batch_size=min(get_image_counts(real_path+r'\\4', r'C:\\Users\\KIIT\\AppData\\Local\\Programs\\Python\\Python36\\Scripts\\Untitled Folder 2\\WGAN_Improved\\Classes\\4')))\n",
    "    bigan_fours = bigan_data.next()\n",
    "    \n",
    "    bigan_fours = np.asarray(bigan_fours[0])\n",
    "    \n",
    "    #####\n",
    "    \n",
    "    cur_dir = r'C:\\Users\\KIIT\\AppData\\Local\\Programs\\Python\\Python36\\Scripts\\MNIST as jpg\\test_set'\n",
    "    L = ['3']\n",
    "\n",
    "    list_dir = os.listdir(cur_dir)\n",
    "    dest = r'C:\\Users\\KIIT\\AppData\\Local\\Programs\\Python\\Python36\\Scripts\\MNIST as jpg\\reserve'\n",
    "\n",
    "    for sub_dir in list_dir:\n",
    "        if sub_dir in L:\n",
    "            dir_to_move = os.path.join(cur_dir, sub_dir)\n",
    "            shutil.move(dir_to_move, dest)\n",
    "    ######\n",
    "    \n",
    "    real_gen = keras.preprocessing.image.ImageDataGenerator()\n",
    "    real_data = real_gen.flow_from_directory(r'C:\\Users\\KIIT\\AppData\\Local\\Programs\\Python\\Python36\\Scripts\\MNIST as jpg\\test_set', \n",
    "    target_size=(img_height, img_width), \n",
    "    batch_size=min(get_image_counts(real_path+r'\\4', r'C:\\Users\\KIIT\\AppData\\Local\\Programs\\Python\\Python36\\Scripts\\Untitled Folder 2\\WGAN_Improved\\Classes\\4')))\n",
    "    \n",
    "    #####\n",
    "    \n",
    "    real_fours = real_data.next()\n",
    "    real_fours = np.asarray(real_fours[0])\n",
    "    \n",
    "    print('Loaded', real_fours.shape, bigan_fours.shape)\n",
    "    \n",
    "    images1 = real_fours\n",
    "    images2 = bigan_fours\n",
    "\n",
    "    images1 = images1.astype('float32')\n",
    "    images2 = images2.astype('float32')\n",
    "    images1 = scale_images(images1, (299,299,3))\n",
    "    images2 = scale_images(images2, (299,299,3))\n",
    "    \n",
    "    # pre-process images\n",
    "    images1 = preprocess_input(images1)\n",
    "    images2 = preprocess_input(images2)\n",
    "    \n",
    "    fid = calculate_fid(model, images1, images2)\n",
    "    print('WGAN_Improved fours FID: %.3f' % fid)\n",
    "    \n",
    "fours_fours()"
   ]
  },
  {
   "cell_type": "code",
   "execution_count": 182,
   "metadata": {},
   "outputs": [
    {
     "name": "stdout",
     "output_type": "stream",
     "text": [
      "Found 4975 images belonging to 5 classes.\n",
      "Found 4117 images belonging to 5 classes.\n",
      "Loaded (759, 217, 217, 3) (759, 217, 217, 3)\n",
      "WGAN_Improved fives FID: 107.879\n"
     ]
    }
   ],
   "source": [
    "def fives_fives():\n",
    "    cur_dir = r'C:\\Users\\KIIT\\AppData\\Local\\Programs\\Python\\Python36\\Scripts\\Untitled Folder 2\\WGAN_Improved\\Classes'\n",
    "    L = ['4']\n",
    "\n",
    "    list_dir = os.listdir(cur_dir)\n",
    "    dest = r'C:\\Users\\KIIT\\AppData\\Local\\Programs\\Python\\Python36\\Scripts\\Untitled Folder 2\\WGAN_Improved\\reserve'\n",
    "\n",
    "    for sub_dir in list_dir:\n",
    "        if sub_dir in L:\n",
    "            dir_to_move = os.path.join(cur_dir, sub_dir)\n",
    "            shutil.move(dir_to_move, dest)\n",
    "            \n",
    "    #####\n",
    "    \n",
    "    bigan_gen = keras.preprocessing.image.ImageDataGenerator()\n",
    "    bigan_data = bigan_gen.flow_from_directory(r'C:\\Users\\KIIT\\AppData\\Local\\Programs\\Python\\Python36\\Scripts\\Untitled Folder 2\\WGAN_Improved\\Classes', \n",
    "    target_size=(img_height, img_width), \n",
    "    batch_size=min(get_image_counts(real_path+r'\\5', r'C:\\Users\\KIIT\\AppData\\Local\\Programs\\Python\\Python36\\Scripts\\Untitled Folder 2\\WGAN_Improved\\Classes\\5')))\n",
    "    bigan_fives = bigan_data.next()\n",
    "    \n",
    "    bigan_fives = np.asarray(bigan_fives[0])\n",
    "    \n",
    "    #####\n",
    "    \n",
    "    cur_dir = r'C:\\Users\\KIIT\\AppData\\Local\\Programs\\Python\\Python36\\Scripts\\MNIST as jpg\\test_set'\n",
    "    L = ['4']\n",
    "\n",
    "    list_dir = os.listdir(cur_dir)\n",
    "    dest = r'C:\\Users\\KIIT\\AppData\\Local\\Programs\\Python\\Python36\\Scripts\\MNIST as jpg\\reserve'\n",
    "\n",
    "    for sub_dir in list_dir:\n",
    "        if sub_dir in L:\n",
    "            dir_to_move = os.path.join(cur_dir, sub_dir)\n",
    "            shutil.move(dir_to_move, dest)\n",
    "    ######\n",
    "    \n",
    "    real_gen = keras.preprocessing.image.ImageDataGenerator()\n",
    "    real_data = real_gen.flow_from_directory(r'C:\\Users\\KIIT\\AppData\\Local\\Programs\\Python\\Python36\\Scripts\\MNIST as jpg\\test_set', \n",
    "    target_size=(img_height, img_width), \n",
    "    batch_size=min(get_image_counts(real_path+r'\\5', r'C:\\Users\\KIIT\\AppData\\Local\\Programs\\Python\\Python36\\Scripts\\Untitled Folder 2\\WGAN_Improved\\Classes\\5')))\n",
    "    \n",
    "    #####\n",
    "    \n",
    "    real_fives = real_data.next()\n",
    "    real_fives = np.asarray(real_fives[0])\n",
    "    \n",
    "    print('Loaded', real_fives.shape, bigan_fives.shape)\n",
    "    \n",
    "    images1 = real_fives\n",
    "    images2 = bigan_fives\n",
    "\n",
    "    images1 = images1.astype('float32')\n",
    "    images2 = images2.astype('float32')\n",
    "    images1 = scale_images(images1, (299,299,3))\n",
    "    images2 = scale_images(images2, (299,299,3))\n",
    "    \n",
    "    # pre-process images\n",
    "    images1 = preprocess_input(images1)\n",
    "    images2 = preprocess_input(images2)\n",
    "    \n",
    "    fid = calculate_fid(model, images1, images2)\n",
    "    print('WGAN_Improved fives FID: %.3f' % fid)\n",
    "    \n",
    "fives_fives()"
   ]
  },
  {
   "cell_type": "code",
   "execution_count": 183,
   "metadata": {},
   "outputs": [
    {
     "name": "stdout",
     "output_type": "stream",
     "text": [
      "Found 4144 images belonging to 4 classes.\n",
      "Found 3358 images belonging to 4 classes.\n",
      "Loaded (827, 217, 217, 3) (827, 217, 217, 3)\n",
      "WGAN_Improved sixes FID: 104.845\n"
     ]
    }
   ],
   "source": [
    "def sixes_sixes():\n",
    "    cur_dir = r'C:\\Users\\KIIT\\AppData\\Local\\Programs\\Python\\Python36\\Scripts\\Untitled Folder 2\\WGAN_Improved\\Classes'\n",
    "    L = ['5']\n",
    "\n",
    "    list_dir = os.listdir(cur_dir)\n",
    "    dest = r'C:\\Users\\KIIT\\AppData\\Local\\Programs\\Python\\Python36\\Scripts\\Untitled Folder 2\\WGAN_Improved\\reserve'\n",
    "\n",
    "    for sub_dir in list_dir:\n",
    "        if sub_dir in L:\n",
    "            dir_to_move = os.path.join(cur_dir, sub_dir)\n",
    "            shutil.move(dir_to_move, dest)\n",
    "            \n",
    "    #####\n",
    "    \n",
    "    bigan_gen = keras.preprocessing.image.ImageDataGenerator()\n",
    "    bigan_data = bigan_gen.flow_from_directory(r'C:\\Users\\KIIT\\AppData\\Local\\Programs\\Python\\Python36\\Scripts\\Untitled Folder 2\\WGAN_Improved\\Classes', \n",
    "    target_size=(img_height, img_width), \n",
    "    batch_size=min(get_image_counts(real_path+r'\\6', r'C:\\Users\\KIIT\\AppData\\Local\\Programs\\Python\\Python36\\Scripts\\Untitled Folder 2\\WGAN_Improved\\Classes\\6')))\n",
    "    bigan_sixes = bigan_data.next()\n",
    "    \n",
    "    bigan_sixes = np.asarray(bigan_sixes[0])\n",
    "    \n",
    "    #####\n",
    "    \n",
    "    cur_dir = r'C:\\Users\\KIIT\\AppData\\Local\\Programs\\Python\\Python36\\Scripts\\MNIST as jpg\\test_set'\n",
    "    L = ['5']\n",
    "\n",
    "    list_dir = os.listdir(cur_dir)\n",
    "    dest = r'C:\\Users\\KIIT\\AppData\\Local\\Programs\\Python\\Python36\\Scripts\\MNIST as jpg\\reserve'\n",
    "\n",
    "    for sub_dir in list_dir:\n",
    "        if sub_dir in L:\n",
    "            dir_to_move = os.path.join(cur_dir, sub_dir)\n",
    "            shutil.move(dir_to_move, dest)\n",
    "    ######\n",
    "    \n",
    "    real_gen = keras.preprocessing.image.ImageDataGenerator()\n",
    "    real_data = real_gen.flow_from_directory(r'C:\\Users\\KIIT\\AppData\\Local\\Programs\\Python\\Python36\\Scripts\\MNIST as jpg\\test_set', \n",
    "    target_size=(img_height, img_width), \n",
    "    batch_size=min(get_image_counts(real_path+r'\\6', r'C:\\Users\\KIIT\\AppData\\Local\\Programs\\Python\\Python36\\Scripts\\Untitled Folder 2\\WGAN_Improved\\Classes\\6')))\n",
    "    \n",
    "    #####\n",
    "    \n",
    "    real_sixes = real_data.next()\n",
    "    real_sixes = np.asarray(real_sixes[0])\n",
    "    \n",
    "    print('Loaded', real_sixes.shape, bigan_sixes.shape)\n",
    "    \n",
    "    images1 = real_sixes\n",
    "    images2 = bigan_sixes\n",
    "\n",
    "    images1 = images1.astype('float32')\n",
    "    images2 = images2.astype('float32')\n",
    "    images1 = scale_images(images1, (299,299,3))\n",
    "    images2 = scale_images(images2, (299,299,3))\n",
    "    \n",
    "    # pre-process images\n",
    "    images1 = preprocess_input(images1)\n",
    "    images2 = preprocess_input(images2)\n",
    "    \n",
    "    fid = calculate_fid(model, images1, images2)\n",
    "    print('WGAN_Improved sixes FID: %.3f' % fid)\n",
    "    \n",
    "sixes_sixes()"
   ]
  },
  {
   "cell_type": "code",
   "execution_count": 184,
   "metadata": {},
   "outputs": [
    {
     "name": "stdout",
     "output_type": "stream",
     "text": [
      "Found 3043 images belonging to 3 classes.\n",
      "Found 2531 images belonging to 3 classes.\n",
      "Loaded (880, 217, 217, 3) (880, 217, 217, 3)\n",
      "WGAN_Improved sevens FID: 113.610\n"
     ]
    }
   ],
   "source": [
    "def sevens_sevens():\n",
    "    cur_dir = r'C:\\Users\\KIIT\\AppData\\Local\\Programs\\Python\\Python36\\Scripts\\Untitled Folder 2\\WGAN_Improved\\Classes'\n",
    "    L = ['6']\n",
    "\n",
    "    list_dir = os.listdir(cur_dir)\n",
    "    dest = r'C:\\Users\\KIIT\\AppData\\Local\\Programs\\Python\\Python36\\Scripts\\Untitled Folder 2\\WGAN_Improved\\reserve'\n",
    "\n",
    "    for sub_dir in list_dir:\n",
    "        if sub_dir in L:\n",
    "            dir_to_move = os.path.join(cur_dir, sub_dir)\n",
    "            shutil.move(dir_to_move, dest)\n",
    "            \n",
    "    #####\n",
    "    \n",
    "    bigan_gen = keras.preprocessing.image.ImageDataGenerator()\n",
    "    bigan_data = bigan_gen.flow_from_directory(r'C:\\Users\\KIIT\\AppData\\Local\\Programs\\Python\\Python36\\Scripts\\Untitled Folder 2\\WGAN_Improved\\Classes', \n",
    "    target_size=(img_height, img_width), \n",
    "    batch_size=min(get_image_counts(real_path+r'\\7', r'C:\\Users\\KIIT\\AppData\\Local\\Programs\\Python\\Python36\\Scripts\\Untitled Folder 2\\WGAN_Improved\\Classes\\7')))\n",
    "    bigan_sevens = bigan_data.next()\n",
    "    \n",
    "    bigan_sevens = np.asarray(bigan_sevens[0])\n",
    "    \n",
    "    #####\n",
    "    \n",
    "    cur_dir = r'C:\\Users\\KIIT\\AppData\\Local\\Programs\\Python\\Python36\\Scripts\\MNIST as jpg\\test_set'\n",
    "    L = ['6']\n",
    "\n",
    "    list_dir = os.listdir(cur_dir)\n",
    "    dest = r'C:\\Users\\KIIT\\AppData\\Local\\Programs\\Python\\Python36\\Scripts\\MNIST as jpg\\reserve'\n",
    "\n",
    "    for sub_dir in list_dir:\n",
    "        if sub_dir in L:\n",
    "            dir_to_move = os.path.join(cur_dir, sub_dir)\n",
    "            shutil.move(dir_to_move, dest)\n",
    "    ######\n",
    "    \n",
    "    real_gen = keras.preprocessing.image.ImageDataGenerator()\n",
    "    real_data = real_gen.flow_from_directory(r'C:\\Users\\KIIT\\AppData\\Local\\Programs\\Python\\Python36\\Scripts\\MNIST as jpg\\test_set', \n",
    "    target_size=(img_height, img_width), \n",
    "    batch_size=min(get_image_counts(real_path+r'\\7', r'C:\\Users\\KIIT\\AppData\\Local\\Programs\\Python\\Python36\\Scripts\\Untitled Folder 2\\WGAN_Improved\\Classes\\7')))\n",
    "    \n",
    "    #####\n",
    "    \n",
    "    real_sevens = real_data.next()\n",
    "    real_sevens = np.asarray(real_sevens[0])\n",
    "    \n",
    "    print('Loaded', real_sevens.shape, bigan_sevens.shape)\n",
    "    \n",
    "    images1 = real_sevens\n",
    "    images2 = bigan_sevens\n",
    "\n",
    "    images1 = images1.astype('float32')\n",
    "    images2 = images2.astype('float32')\n",
    "    images1 = scale_images(images1, (299,299,3))\n",
    "    images2 = scale_images(images2, (299,299,3))\n",
    "    \n",
    "    # pre-process images\n",
    "    images1 = preprocess_input(images1)\n",
    "    images2 = preprocess_input(images2)\n",
    "    \n",
    "    fid = calculate_fid(model, images1, images2)\n",
    "    print('WGAN_Improved sevens FID: %.3f' % fid)\n",
    "    \n",
    "sevens_sevens()"
   ]
  },
  {
   "cell_type": "code",
   "execution_count": 185,
   "metadata": {},
   "outputs": [
    {
     "name": "stdout",
     "output_type": "stream",
     "text": [
      "Found 2127 images belonging to 2 classes.\n",
      "Found 1651 images belonging to 2 classes.\n",
      "Loaded (813, 217, 217, 3) (813, 217, 217, 3)\n",
      "WGAN_Improved eights FID: 133.387\n"
     ]
    }
   ],
   "source": [
    "def eights_eights():\n",
    "    cur_dir = r'C:\\Users\\KIIT\\AppData\\Local\\Programs\\Python\\Python36\\Scripts\\Untitled Folder 2\\WGAN_Improved\\Classes'\n",
    "    L = ['7']\n",
    "\n",
    "    list_dir = os.listdir(cur_dir)\n",
    "    dest = r'C:\\Users\\KIIT\\AppData\\Local\\Programs\\Python\\Python36\\Scripts\\Untitled Folder 2\\WGAN_Improved\\reserve'\n",
    "\n",
    "    for sub_dir in list_dir:\n",
    "        if sub_dir in L:\n",
    "            dir_to_move = os.path.join(cur_dir, sub_dir)\n",
    "            shutil.move(dir_to_move, dest)\n",
    "            \n",
    "    #####\n",
    "    \n",
    "    bigan_gen = keras.preprocessing.image.ImageDataGenerator()\n",
    "    bigan_data = bigan_gen.flow_from_directory(r'C:\\Users\\KIIT\\AppData\\Local\\Programs\\Python\\Python36\\Scripts\\Untitled Folder 2\\WGAN_Improved\\Classes', \n",
    "    target_size=(img_height, img_width), \n",
    "    batch_size=min(get_image_counts(real_path+r'\\8', r'C:\\Users\\KIIT\\AppData\\Local\\Programs\\Python\\Python36\\Scripts\\Untitled Folder 2\\WGAN_Improved\\Classes\\8')))\n",
    "    bigan_eights = bigan_data.next()\n",
    "    \n",
    "    bigan_eights = np.asarray(bigan_eights[0])\n",
    "    \n",
    "    #####\n",
    "    \n",
    "    cur_dir = r'C:\\Users\\KIIT\\AppData\\Local\\Programs\\Python\\Python36\\Scripts\\MNIST as jpg\\test_set'\n",
    "    L = ['7']\n",
    "\n",
    "    list_dir = os.listdir(cur_dir)\n",
    "    dest = r'C:\\Users\\KIIT\\AppData\\Local\\Programs\\Python\\Python36\\Scripts\\MNIST as jpg\\reserve'\n",
    "\n",
    "    for sub_dir in list_dir:\n",
    "        if sub_dir in L:\n",
    "            dir_to_move = os.path.join(cur_dir, sub_dir)\n",
    "            shutil.move(dir_to_move, dest)\n",
    "    ######\n",
    "    \n",
    "    real_gen = keras.preprocessing.image.ImageDataGenerator()\n",
    "    real_data = real_gen.flow_from_directory(r'C:\\Users\\KIIT\\AppData\\Local\\Programs\\Python\\Python36\\Scripts\\MNIST as jpg\\test_set', \n",
    "    target_size=(img_height, img_width), \n",
    "    batch_size=min(get_image_counts(real_path+r'\\8', r'C:\\Users\\KIIT\\AppData\\Local\\Programs\\Python\\Python36\\Scripts\\Untitled Folder 2\\WGAN_Improved\\Classes\\8')))\n",
    "    \n",
    "    #####\n",
    "    \n",
    "    real_eights = real_data.next()\n",
    "    real_eights = np.asarray(real_eights[0])\n",
    "    \n",
    "    print('Loaded', real_eights.shape, bigan_eights.shape)\n",
    "    \n",
    "    images1 = real_eights\n",
    "    images2 = bigan_eights\n",
    "\n",
    "    images1 = images1.astype('float32')\n",
    "    images2 = images2.astype('float32')\n",
    "    images1 = scale_images(images1, (299,299,3))\n",
    "    images2 = scale_images(images2, (299,299,3))\n",
    "    \n",
    "    # pre-process images\n",
    "    images1 = preprocess_input(images1)\n",
    "    images2 = preprocess_input(images2)\n",
    "    \n",
    "    fid = calculate_fid(model, images1, images2)\n",
    "    print('WGAN_Improved eights FID: %.3f' % fid)\n",
    "    \n",
    "eights_eights()"
   ]
  },
  {
   "cell_type": "code",
   "execution_count": 186,
   "metadata": {},
   "outputs": [
    {
     "name": "stdout",
     "output_type": "stream",
     "text": [
      "Found 1007 images belonging to 1 classes.\n",
      "Found 838 images belonging to 1 classes.\n",
      "Loaded (838, 217, 217, 3) (838, 217, 217, 3)\n",
      "WGAN_Improved nines FID: 115.865\n"
     ]
    }
   ],
   "source": [
    "def nines_nines():\n",
    "    cur_dir = r'C:\\Users\\KIIT\\AppData\\Local\\Programs\\Python\\Python36\\Scripts\\Untitled Folder 2\\WGAN_Improved\\Classes'\n",
    "    L = ['8']\n",
    "\n",
    "    list_dir = os.listdir(cur_dir)\n",
    "    dest = r'C:\\Users\\KIIT\\AppData\\Local\\Programs\\Python\\Python36\\Scripts\\Untitled Folder 2\\WGAN_Improved\\reserve'\n",
    "\n",
    "    for sub_dir in list_dir:\n",
    "        if sub_dir in L:\n",
    "            dir_to_move = os.path.join(cur_dir, sub_dir)\n",
    "            shutil.move(dir_to_move, dest)\n",
    "            \n",
    "    #####\n",
    "    \n",
    "    bigan_gen = keras.preprocessing.image.ImageDataGenerator()\n",
    "    bigan_data = bigan_gen.flow_from_directory(r'C:\\Users\\KIIT\\AppData\\Local\\Programs\\Python\\Python36\\Scripts\\Untitled Folder 2\\WGAN_Improved\\Classes', \n",
    "    target_size=(img_height, img_width), \n",
    "    batch_size=min(get_image_counts(real_path+r'\\9', r'C:\\Users\\KIIT\\AppData\\Local\\Programs\\Python\\Python36\\Scripts\\Untitled Folder 2\\WGAN_Improved\\Classes\\9')))\n",
    "    bigan_nines = bigan_data.next()\n",
    "    \n",
    "    bigan_nines = np.asarray(bigan_nines[0])\n",
    "    \n",
    "    #####\n",
    "    \n",
    "    cur_dir = r'C:\\Users\\KIIT\\AppData\\Local\\Programs\\Python\\Python36\\Scripts\\MNIST as jpg\\test_set'\n",
    "    L = ['8']\n",
    "\n",
    "    list_dir = os.listdir(cur_dir)\n",
    "    dest = r'C:\\Users\\KIIT\\AppData\\Local\\Programs\\Python\\Python36\\Scripts\\MNIST as jpg\\reserve'\n",
    "\n",
    "    for sub_dir in list_dir:\n",
    "        if sub_dir in L:\n",
    "            dir_to_move = os.path.join(cur_dir, sub_dir)\n",
    "            shutil.move(dir_to_move, dest)\n",
    "    ######\n",
    "    \n",
    "    real_gen = keras.preprocessing.image.ImageDataGenerator()\n",
    "    real_data = real_gen.flow_from_directory(r'C:\\Users\\KIIT\\AppData\\Local\\Programs\\Python\\Python36\\Scripts\\MNIST as jpg\\test_set', \n",
    "    target_size=(img_height, img_width), \n",
    "    batch_size=min(get_image_counts(real_path+r'\\9', r'C:\\Users\\KIIT\\AppData\\Local\\Programs\\Python\\Python36\\Scripts\\Untitled Folder 2\\WGAN_Improved\\Classes\\9')))\n",
    "    \n",
    "    #####\n",
    "    \n",
    "    real_nines = real_data.next()\n",
    "    real_nines = np.asarray(real_nines[0])\n",
    "    \n",
    "    print('Loaded', real_nines.shape, bigan_nines.shape)\n",
    "    \n",
    "    images1 = real_nines\n",
    "    images2 = bigan_nines\n",
    "\n",
    "    images1 = images1.astype('float32')\n",
    "    images2 = images2.astype('float32')\n",
    "    images1 = scale_images(images1, (299,299,3))\n",
    "    images2 = scale_images(images2, (299,299,3))\n",
    "    \n",
    "    # pre-process images\n",
    "    images1 = preprocess_input(images1)\n",
    "    images2 = preprocess_input(images2)\n",
    "    \n",
    "    fid = calculate_fid(model, images1, images2)\n",
    "    print('WGAN_Improved nines FID: %.3f' % fid)\n",
    "    \n",
    "nines_nines()"
   ]
  },
  {
   "cell_type": "code",
   "execution_count": null,
   "metadata": {},
   "outputs": [],
   "source": []
  },
  {
   "cell_type": "code",
   "execution_count": null,
   "metadata": {},
   "outputs": [],
   "source": []
  }
 ],
 "metadata": {
  "kernelspec": {
   "display_name": "Python 3",
   "language": "python",
   "name": "python3"
  },
  "language_info": {
   "codemirror_mode": {
    "name": "ipython",
    "version": 3
   },
   "file_extension": ".py",
   "mimetype": "text/x-python",
   "name": "python",
   "nbconvert_exporter": "python",
   "pygments_lexer": "ipython3",
   "version": "3.6.6"
  },
  "varInspector": {
   "cols": {
    "lenName": 16,
    "lenType": 16,
    "lenVar": 40
   },
   "kernels_config": {
    "python": {
     "delete_cmd_postfix": "",
     "delete_cmd_prefix": "del ",
     "library": "var_list.py",
     "varRefreshCmd": "print(var_dic_list())"
    },
    "r": {
     "delete_cmd_postfix": ") ",
     "delete_cmd_prefix": "rm(",
     "library": "var_list.r",
     "varRefreshCmd": "cat(var_dic_list()) "
    }
   },
   "types_to_exclude": [
    "module",
    "function",
    "builtin_function_or_method",
    "instance",
    "_Feature"
   ],
   "window_display": false
  }
 },
 "nbformat": 4,
 "nbformat_minor": 2
}
