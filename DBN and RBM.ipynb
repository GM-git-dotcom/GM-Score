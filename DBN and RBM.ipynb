{
 "cells": [
  {
   "cell_type": "code",
   "execution_count": 1,
   "metadata": {},
   "outputs": [
    {
     "name": "stdout",
     "output_type": "stream",
     "text": [
      "Automatically created module for IPython interactive environment\n"
     ]
    }
   ],
   "source": [
    "from __future__ import print_function\n",
    "import sys\n",
    "sys.path.insert(1, r'C:\\Users\\KIIT\\Desktop\\Machine Learning\\My projects\\My papers\\Survey on Generative Models\\GitHub Resources\\DBN')\n",
    "\n",
    "print(__doc__)\n",
    "\n",
    "import numpy as np\n",
    "\n",
    "from scipy.ndimage import convolve\n",
    "from sklearn import linear_model, datasets, metrics\n",
    "from sklearn.model_selection import train_test_split\n",
    "from sklearn.pipeline import Pipeline\n",
    "from dbn.models import UnsupervisedDBN # use \"from dbn.tensorflow import SupervisedDBNClassification\" for computations on TensorFlow\n",
    "import pandas as pd"
   ]
  },
  {
   "cell_type": "code",
   "execution_count": 48,
   "metadata": {},
   "outputs": [
    {
     "name": "stdout",
     "output_type": "stream",
     "text": [
      "Found 33602 images belonging to 10 classes.\n",
      "Found 8398 images belonging to 10 classes.\n"
     ]
    }
   ],
   "source": [
    "from keras.preprocessing.image import ImageDataGenerator\n",
    "\n",
    "train_datagen = ImageDataGenerator(horizontal_flip = True)\n",
    "test_datagen = ImageDataGenerator()\n",
    "\n",
    "training_set = train_datagen.flow_from_directory(r'C:\\Users\\KIIT\\AppData\\Local\\Programs\\Python\\Python36\\Scripts\\MNIST as jpg\\training_set',\n",
    "                                                 target_size = (28, 28),\n",
    "                                                 batch_size = 33602,\n",
    "                                                 class_mode = 'categorical')\n",
    "\n",
    "test_set = test_datagen.flow_from_directory(r'C:\\Users\\KIIT\\AppData\\Local\\Programs\\Python\\Python36\\Scripts\\MNIST as jpg\\test_set',\n",
    "                                            target_size = (28, 28),\n",
    "                                            batch_size = 8398,\n",
    "                                            class_mode = 'categorical')"
   ]
  },
  {
   "cell_type": "code",
   "execution_count": 49,
   "metadata": {},
   "outputs": [],
   "source": [
    "X_train, Y_train = training_set.next()\n",
    "X_test, Y_test = test_set.next()"
   ]
  },
  {
   "cell_type": "code",
   "execution_count": 50,
   "metadata": {},
   "outputs": [
    {
     "data": {
      "text/plain": [
       "{0.0: 49115511,\n",
       " 1.0: 1911363,\n",
       " 2.0: 1774011,\n",
       " 3.0: 1624764,\n",
       " 4.0: 1483005,\n",
       " 5.0: 1325019,\n",
       " 6.0: 1162680,\n",
       " 7.0: 1017339,\n",
       " 8.0: 874809,\n",
       " 9.0: 756864,\n",
       " 10.0: 647418,\n",
       " 11.0: 548286,\n",
       " 12.0: 467511,\n",
       " 13.0: 391824,\n",
       " 14.0: 333609,\n",
       " 15.0: 284757,\n",
       " 16.0: 236655,\n",
       " 17.0: 202491,\n",
       " 18.0: 169266,\n",
       " 19.0: 146961,\n",
       " 20.0: 127239,\n",
       " 21.0: 111600,\n",
       " 22.0: 96951,\n",
       " 23.0: 88050,\n",
       " 24.0: 77664,\n",
       " 25.0: 70332,\n",
       " 26.0: 64374,\n",
       " 27.0: 59448,\n",
       " 28.0: 55401,\n",
       " 29.0: 54765,\n",
       " 30.0: 50268,\n",
       " 31.0: 48378,\n",
       " 32.0: 47127,\n",
       " 33.0: 45003,\n",
       " 34.0: 43488,\n",
       " 35.0: 43041,\n",
       " 36.0: 41958,\n",
       " 37.0: 43053,\n",
       " 38.0: 40851,\n",
       " 39.0: 42000,\n",
       " 40.0: 39444,\n",
       " 41.0: 38523,\n",
       " 42.0: 38499,\n",
       " 43.0: 38880,\n",
       " 44.0: 38208,\n",
       " 45.0: 37323,\n",
       " 46.0: 37869,\n",
       " 47.0: 37227,\n",
       " 48.0: 36858,\n",
       " 49.0: 37353,\n",
       " 50.0: 37128,\n",
       " 51.0: 37164,\n",
       " 52.0: 36411,\n",
       " 53.0: 36036,\n",
       " 54.0: 36381,\n",
       " 55.0: 35961,\n",
       " 56.0: 36108,\n",
       " 57.0: 35322,\n",
       " 58.0: 35901,\n",
       " 59.0: 35142,\n",
       " 60.0: 34926,\n",
       " 61.0: 34830,\n",
       " 62.0: 34392,\n",
       " 63.0: 35373,\n",
       " 64.0: 34467,\n",
       " 65.0: 34362,\n",
       " 66.0: 33402,\n",
       " 67.0: 33675,\n",
       " 68.0: 33783,\n",
       " 69.0: 33351,\n",
       " 70.0: 32886,\n",
       " 71.0: 32322,\n",
       " 72.0: 32709,\n",
       " 73.0: 33012,\n",
       " 74.0: 32346,\n",
       " 75.0: 32079,\n",
       " 76.0: 31713,\n",
       " 77.0: 31824,\n",
       " 78.0: 31281,\n",
       " 79.0: 31641,\n",
       " 80.0: 31305,\n",
       " 81.0: 30834,\n",
       " 82.0: 30558,\n",
       " 83.0: 31449,\n",
       " 84.0: 31461,\n",
       " 85.0: 31245,\n",
       " 86.0: 30834,\n",
       " 87.0: 31248,\n",
       " 88.0: 30720,\n",
       " 89.0: 30231,\n",
       " 90.0: 30528,\n",
       " 91.0: 30744,\n",
       " 92.0: 30846,\n",
       " 93.0: 30219,\n",
       " 94.0: 29658,\n",
       " 95.0: 29742,\n",
       " 96.0: 29715,\n",
       " 97.0: 29691,\n",
       " 98.0: 29763,\n",
       " 99.0: 29751,\n",
       " 100.0: 29994,\n",
       " 101.0: 29175,\n",
       " 102.0: 29373,\n",
       " 103.0: 29262,\n",
       " 104.0: 29274,\n",
       " 105.0: 29499,\n",
       " 106.0: 30081,\n",
       " 107.0: 30165,\n",
       " 108.0: 30318,\n",
       " 109.0: 30735,\n",
       " 110.0: 30858,\n",
       " 111.0: 30780,\n",
       " 112.0: 30588,\n",
       " 113.0: 30504,\n",
       " 114.0: 32490,\n",
       " 115.0: 31173,\n",
       " 116.0: 31218,\n",
       " 117.0: 31392,\n",
       " 118.0: 32118,\n",
       " 119.0: 31809,\n",
       " 120.0: 32487,\n",
       " 121.0: 32241,\n",
       " 122.0: 32616,\n",
       " 123.0: 32619,\n",
       " 124.0: 32712,\n",
       " 125.0: 33432,\n",
       " 126.0: 33930,\n",
       " 127.0: 33330,\n",
       " 128.0: 33339,\n",
       " 129.0: 33642,\n",
       " 130.0: 33135,\n",
       " 131.0: 33135,\n",
       " 132.0: 33132,\n",
       " 133.0: 34089,\n",
       " 134.0: 32901,\n",
       " 135.0: 32562,\n",
       " 136.0: 32970,\n",
       " 137.0: 32340,\n",
       " 138.0: 31803,\n",
       " 139.0: 32136,\n",
       " 140.0: 31932,\n",
       " 141.0: 32046,\n",
       " 142.0: 31344,\n",
       " 143.0: 31704,\n",
       " 144.0: 31212,\n",
       " 145.0: 31704,\n",
       " 146.0: 30762,\n",
       " 147.0: 31020,\n",
       " 148.0: 30921,\n",
       " 149.0: 30918,\n",
       " 150.0: 30228,\n",
       " 151.0: 30666,\n",
       " 152.0: 30906,\n",
       " 153.0: 30426,\n",
       " 154.0: 30567,\n",
       " 155.0: 30582,\n",
       " 156.0: 30324,\n",
       " 157.0: 29925,\n",
       " 158.0: 30816,\n",
       " 159.0: 30498,\n",
       " 160.0: 30750,\n",
       " 161.0: 30708,\n",
       " 162.0: 30822,\n",
       " 163.0: 30912,\n",
       " 164.0: 30948,\n",
       " 165.0: 31029,\n",
       " 166.0: 31110,\n",
       " 167.0: 31695,\n",
       " 168.0: 31746,\n",
       " 169.0: 31446,\n",
       " 170.0: 31266,\n",
       " 171.0: 31299,\n",
       " 172.0: 31884,\n",
       " 173.0: 32037,\n",
       " 174.0: 31983,\n",
       " 175.0: 32478,\n",
       " 176.0: 32367,\n",
       " 177.0: 32538,\n",
       " 178.0: 32343,\n",
       " 179.0: 33057,\n",
       " 180.0: 32997,\n",
       " 181.0: 33033,\n",
       " 182.0: 33126,\n",
       " 183.0: 33840,\n",
       " 184.0: 33654,\n",
       " 185.0: 34029,\n",
       " 186.0: 33438,\n",
       " 187.0: 33996,\n",
       " 188.0: 34620,\n",
       " 189.0: 34701,\n",
       " 190.0: 34572,\n",
       " 191.0: 34968,\n",
       " 192.0: 35052,\n",
       " 193.0: 35625,\n",
       " 194.0: 35547,\n",
       " 195.0: 36519,\n",
       " 196.0: 36780,\n",
       " 197.0: 36795,\n",
       " 198.0: 36129,\n",
       " 199.0: 36438,\n",
       " 200.0: 36372,\n",
       " 201.0: 36411,\n",
       " 202.0: 36975,\n",
       " 203.0: 37101,\n",
       " 204.0: 37029,\n",
       " 205.0: 38133,\n",
       " 206.0: 37707,\n",
       " 207.0: 37719,\n",
       " 208.0: 38283,\n",
       " 209.0: 38271,\n",
       " 210.0: 38904,\n",
       " 211.0: 39015,\n",
       " 212.0: 39573,\n",
       " 213.0: 39912,\n",
       " 214.0: 40689,\n",
       " 215.0: 40992,\n",
       " 216.0: 40851,\n",
       " 217.0: 41574,\n",
       " 218.0: 42303,\n",
       " 219.0: 43086,\n",
       " 220.0: 43701,\n",
       " 221.0: 44208,\n",
       " 222.0: 45387,\n",
       " 223.0: 46308,\n",
       " 224.0: 48348,\n",
       " 225.0: 49557,\n",
       " 226.0: 50784,\n",
       " 227.0: 52638,\n",
       " 228.0: 54516,\n",
       " 229.0: 57465,\n",
       " 230.0: 60492,\n",
       " 231.0: 63120,\n",
       " 232.0: 67383,\n",
       " 233.0: 72771,\n",
       " 234.0: 78273,\n",
       " 235.0: 84225,\n",
       " 236.0: 91797,\n",
       " 237.0: 99720,\n",
       " 238.0: 107958,\n",
       " 239.0: 119910,\n",
       " 240.0: 129480,\n",
       " 241.0: 141762,\n",
       " 242.0: 156630,\n",
       " 243.0: 169929,\n",
       " 244.0: 183447,\n",
       " 245.0: 199383,\n",
       " 246.0: 211617,\n",
       " 247.0: 225099,\n",
       " 248.0: 237858,\n",
       " 249.0: 249567,\n",
       " 250.0: 258537,\n",
       " 251.0: 265911,\n",
       " 252.0: 270876,\n",
       " 253.0: 274359,\n",
       " 254.0: 269220,\n",
       " 255.0: 2710845}"
      ]
     },
     "execution_count": 50,
     "metadata": {},
     "output_type": "execute_result"
    }
   ],
   "source": [
    "unique, counts = np.unique(X_train, return_counts=True)\n",
    "dict(zip(unique, counts))"
   ]
  },
  {
   "cell_type": "code",
   "execution_count": 51,
   "metadata": {},
   "outputs": [
    {
     "data": {
      "text/plain": [
       "(33602, 28, 28, 3)"
      ]
     },
     "execution_count": 51,
     "metadata": {},
     "output_type": "execute_result"
    }
   ],
   "source": [
    "X_train.shape"
   ]
  },
  {
   "cell_type": "code",
   "execution_count": 52,
   "metadata": {},
   "outputs": [],
   "source": [
    "X_train = X_train[:, :, :, 0]\n",
    "X_test = X_test[:, :, :, 0]"
   ]
  },
  {
   "cell_type": "code",
   "execution_count": 53,
   "metadata": {},
   "outputs": [
    {
     "data": {
      "text/plain": [
       "(33602, 28, 28)"
      ]
     },
     "execution_count": 53,
     "metadata": {},
     "output_type": "execute_result"
    }
   ],
   "source": [
    "X_train.shape"
   ]
  },
  {
   "cell_type": "code",
   "execution_count": 54,
   "metadata": {},
   "outputs": [],
   "source": [
    "labels = []\n",
    "for i in range(len(Y_train)):\n",
    "    labels.append(np.where(Y_train[i] == 1)[0][0])\n",
    "Y_train = np.array(labels)"
   ]
  },
  {
   "cell_type": "code",
   "execution_count": 55,
   "metadata": {},
   "outputs": [],
   "source": [
    "labels = []\n",
    "for i in range(len(Y_test)):\n",
    "    labels.append(np.where(Y_test[i] == 1)[0][0])\n",
    "Y_test = np.array(labels)"
   ]
  },
  {
   "cell_type": "code",
   "execution_count": 56,
   "metadata": {},
   "outputs": [
    {
     "data": {
      "text/plain": [
       "(33602, 28, 28)"
      ]
     },
     "execution_count": 56,
     "metadata": {},
     "output_type": "execute_result"
    }
   ],
   "source": [
    "X_train.shape"
   ]
  },
  {
   "cell_type": "code",
   "execution_count": 57,
   "metadata": {},
   "outputs": [],
   "source": [
    "X_train_mat = np.zeros(shape=(33602, 28*28))\n",
    "X_test_mat = np.zeros(shape=(8398, 28*28))"
   ]
  },
  {
   "cell_type": "code",
   "execution_count": 58,
   "metadata": {},
   "outputs": [],
   "source": [
    "for row in range(len(X_train)):\n",
    "    X_train_mat[row] = X_train[row].ravel()"
   ]
  },
  {
   "cell_type": "code",
   "execution_count": 59,
   "metadata": {},
   "outputs": [],
   "source": [
    "X_train = X_train_mat"
   ]
  },
  {
   "cell_type": "code",
   "execution_count": 60,
   "metadata": {},
   "outputs": [],
   "source": [
    "for row in range(len(X_test)):\n",
    "    X_test_mat[row] = X_test[row].ravel()"
   ]
  },
  {
   "cell_type": "code",
   "execution_count": 61,
   "metadata": {},
   "outputs": [],
   "source": [
    "X_test = X_test_mat"
   ]
  },
  {
   "cell_type": "code",
   "execution_count": 62,
   "metadata": {},
   "outputs": [
    {
     "data": {
      "text/plain": [
       "(33602, 784)"
      ]
     },
     "execution_count": 62,
     "metadata": {},
     "output_type": "execute_result"
    }
   ],
   "source": [
    "X_train.shape"
   ]
  },
  {
   "cell_type": "code",
   "execution_count": 43,
   "metadata": {},
   "outputs": [],
   "source": [
    "def nudge_dataset(X, Y):\n",
    "    \"\"\"\n",
    "    This produces a dataset 5 times bigger than the original one,\n",
    "    by moving the 8x8 images in X around by 1px to left, right, down, up\n",
    "    \"\"\"\n",
    "    direction_vectors = [\n",
    "        [[0, 1, 0],\n",
    "         [0, 0, 0],\n",
    "         [0, 0, 0]],\n",
    "\n",
    "        [[0, 0, 0],\n",
    "         [1, 0, 0],\n",
    "         [0, 0, 0]],\n",
    "\n",
    "        [[0, 0, 0],\n",
    "         [0, 0, 1],\n",
    "         [0, 0, 0]],\n",
    "\n",
    "        [[0, 0, 0],\n",
    "         [0, 0, 0],\n",
    "         [0, 1, 0]]]\n",
    "\n",
    "    def shift(x, w):\n",
    "        return convolve(x.reshape((28, 28)), mode='constant', weights=w).ravel()\n",
    "\n",
    "    X = np.concatenate([X] +\n",
    "                       [np.apply_along_axis(shift, 1, X, vector)\n",
    "                        for vector in direction_vectors])\n",
    "    Y = np.concatenate([Y for _ in range(5)], axis=0)\n",
    "    return X, Y"
   ]
  },
  {
   "cell_type": "code",
   "execution_count": 63,
   "metadata": {},
   "outputs": [],
   "source": [
    "from sklearn.preprocessing import minmax_scale\n",
    "X_train = np.asarray(X_train, 'float32')\n",
    "X_test = np.asarray(X_test, 'float32')\n",
    "#X_train, Y_train = nudge_dataset(X_train, Y_train)\n",
    "#X_test, Y_test = nudge_dataset(X_test, Y_test)\n",
    "\n",
    "X_train = minmax_scale(X_train, feature_range=(0, 1))  # 0-1 scaling\n",
    "X_test = minmax_scale(X_test, feature_range=(0, 1))\n"
   ]
  },
  {
   "cell_type": "code",
   "execution_count": 64,
   "metadata": {},
   "outputs": [
    {
     "data": {
      "text/plain": [
       "(33602, 784)"
      ]
     },
     "execution_count": 64,
     "metadata": {},
     "output_type": "execute_result"
    }
   ],
   "source": [
    "X_train.shape"
   ]
  },
  {
   "cell_type": "code",
   "execution_count": 65,
   "metadata": {},
   "outputs": [],
   "source": [
    "logistic = linear_model.LogisticRegression()\n",
    "dbn = UnsupervisedDBN(hidden_layers_structure=[256, 512],\n",
    "                      batch_size=10,\n",
    "                      learning_rate_rbm=0.06,\n",
    "                      n_epochs_rbm=10,\n",
    "                      activation_function='sigmoid')\n",
    "\n",
    "classifier = Pipeline(steps=[('dbn', dbn),\n",
    "                             ('logistic', logistic)])"
   ]
  },
  {
   "cell_type": "code",
   "execution_count": 66,
   "metadata": {},
   "outputs": [
    {
     "name": "stdout",
     "output_type": "stream",
     "text": [
      "[START] Pre-training step:\n",
      ">> Epoch 1 finished \tRBM Reconstruction error 7.809914\n",
      ">> Epoch 2 finished \tRBM Reconstruction error 5.898251\n",
      ">> Epoch 3 finished \tRBM Reconstruction error 5.203515\n",
      ">> Epoch 4 finished \tRBM Reconstruction error 4.835923\n",
      ">> Epoch 5 finished \tRBM Reconstruction error 4.582339\n",
      ">> Epoch 6 finished \tRBM Reconstruction error 4.502327\n",
      ">> Epoch 7 finished \tRBM Reconstruction error 4.319991\n",
      ">> Epoch 8 finished \tRBM Reconstruction error 4.191722\n",
      ">> Epoch 9 finished \tRBM Reconstruction error 4.211137\n",
      ">> Epoch 10 finished \tRBM Reconstruction error 4.100776\n",
      ">> Epoch 1 finished \tRBM Reconstruction error 3.356609\n",
      ">> Epoch 2 finished \tRBM Reconstruction error 2.571931\n",
      ">> Epoch 3 finished \tRBM Reconstruction error 2.183570\n",
      ">> Epoch 4 finished \tRBM Reconstruction error 2.005837\n",
      ">> Epoch 5 finished \tRBM Reconstruction error 1.904135\n",
      ">> Epoch 6 finished \tRBM Reconstruction error 1.777992\n",
      ">> Epoch 7 finished \tRBM Reconstruction error 1.676783\n",
      ">> Epoch 8 finished \tRBM Reconstruction error 1.625905\n",
      ">> Epoch 9 finished \tRBM Reconstruction error 1.565129\n",
      ">> Epoch 10 finished \tRBM Reconstruction error 1.528317\n",
      "[END] Pre-training step\n"
     ]
    },
    {
     "name": "stderr",
     "output_type": "stream",
     "text": [
      "C:\\Users\\KIIT\\AppData\\Roaming\\Python\\Python36\\site-packages\\sklearn\\linear_model\\_logistic.py:939: ConvergenceWarning: lbfgs failed to converge (status=1):\n",
      "STOP: TOTAL NO. of ITERATIONS REACHED LIMIT.\n",
      "\n",
      "Increase the number of iterations (max_iter) or scale the data as shown in:\n",
      "    https://scikit-learn.org/stable/modules/preprocessing.html.\n",
      "Please also refer to the documentation for alternative solver options:\n",
      "    https://scikit-learn.org/stable/modules/linear_model.html#logistic-regression\n",
      "  extra_warning_msg=_LOGISTIC_SOLVER_CONVERGENCE_MSG)\n"
     ]
    },
    {
     "data": {
      "text/plain": [
       "Pipeline(memory=None,\n",
       "         steps=[('dbn',\n",
       "                 UnsupervisedDBN(activation_function='sigmoid', batch_size=10,\n",
       "                                 contrastive_divergence_iter=1,\n",
       "                                 hidden_layers_structure=[256, 512],\n",
       "                                 learning_rate_rbm=0.06, n_epochs_rbm=10,\n",
       "                                 optimization_algorithm='sgd', verbose=True)),\n",
       "                ('logistic',\n",
       "                 LogisticRegression(C=6000.0, class_weight=None, dual=False,\n",
       "                                    fit_intercept=True, intercept_scaling=1,\n",
       "                                    l1_ratio=None, max_iter=100,\n",
       "                                    multi_class='auto', n_jobs=None,\n",
       "                                    penalty='l2', random_state=None,\n",
       "                                    solver='lbfgs', tol=0.0001, verbose=0,\n",
       "                                    warm_start=False))],\n",
       "         verbose=False)"
      ]
     },
     "execution_count": 66,
     "metadata": {},
     "output_type": "execute_result"
    }
   ],
   "source": [
    "logistic.C = 6000.0\n",
    "\n",
    "# Training RBM-Logistic Pipeline\n",
    "classifier.fit(X_train, Y_train)"
   ]
  },
  {
   "cell_type": "code",
   "execution_count": 67,
   "metadata": {},
   "outputs": [
    {
     "name": "stderr",
     "output_type": "stream",
     "text": [
      "C:\\Users\\KIIT\\AppData\\Roaming\\Python\\Python36\\site-packages\\sklearn\\linear_model\\_logistic.py:939: ConvergenceWarning: lbfgs failed to converge (status=1):\n",
      "STOP: TOTAL NO. of ITERATIONS REACHED LIMIT.\n",
      "\n",
      "Increase the number of iterations (max_iter) or scale the data as shown in:\n",
      "    https://scikit-learn.org/stable/modules/preprocessing.html.\n",
      "Please also refer to the documentation for alternative solver options:\n",
      "    https://scikit-learn.org/stable/modules/linear_model.html#logistic-regression\n",
      "  extra_warning_msg=_LOGISTIC_SOLVER_CONVERGENCE_MSG)\n"
     ]
    },
    {
     "data": {
      "text/plain": [
       "LogisticRegression(C=100.0, class_weight=None, dual=False, fit_intercept=True,\n",
       "                   intercept_scaling=1, l1_ratio=None, max_iter=100,\n",
       "                   multi_class='auto', n_jobs=None, penalty='l2',\n",
       "                   random_state=None, solver='lbfgs', tol=0.0001, verbose=0,\n",
       "                   warm_start=False)"
      ]
     },
     "execution_count": 67,
     "metadata": {},
     "output_type": "execute_result"
    }
   ],
   "source": [
    "logistic_classifier = linear_model.LogisticRegression(C=100.0)\n",
    "logistic_classifier.fit(X_train, Y_train)"
   ]
  },
  {
   "cell_type": "code",
   "execution_count": 68,
   "metadata": {},
   "outputs": [
    {
     "name": "stdout",
     "output_type": "stream",
     "text": [
      "\n",
      "Logistic regression using RBM features:\n",
      "              precision    recall  f1-score   support\n",
      "\n",
      "           0       0.98      0.98      0.98       826\n",
      "           1       0.98      0.99      0.98       936\n",
      "           2       0.91      0.92      0.91       835\n",
      "           3       0.89      0.90      0.90       870\n",
      "           4       0.97      0.97      0.97       814\n",
      "           5       0.89      0.85      0.87       759\n",
      "           6       0.95      0.96      0.95       827\n",
      "           7       0.95      0.96      0.95       880\n",
      "           8       0.95      0.95      0.95       813\n",
      "           9       0.95      0.93      0.94       838\n",
      "\n",
      "    accuracy                           0.94      8398\n",
      "   macro avg       0.94      0.94      0.94      8398\n",
      "weighted avg       0.94      0.94      0.94      8398\n",
      "\n",
      "\n",
      "Logistic regression using raw pixel features:\n",
      "              precision    recall  f1-score   support\n",
      "\n",
      "           0       0.94      0.94      0.94       826\n",
      "           1       0.93      0.97      0.95       936\n",
      "           2       0.81      0.85      0.83       835\n",
      "           3       0.72      0.73      0.73       870\n",
      "           4       0.89      0.91      0.90       814\n",
      "           5       0.72      0.62      0.67       759\n",
      "           6       0.90      0.93      0.92       827\n",
      "           7       0.89      0.92      0.91       880\n",
      "           8       0.82      0.79      0.81       813\n",
      "           9       0.89      0.85      0.87       838\n",
      "\n",
      "    accuracy                           0.86      8398\n",
      "   macro avg       0.85      0.85      0.85      8398\n",
      "weighted avg       0.85      0.86      0.85      8398\n",
      "\n",
      "\n"
     ]
    }
   ],
   "source": [
    "print(\"Logistic regression using RBM features:\\n%s\\n\" % (\n",
    "    metrics.classification_report(\n",
    "        Y_test,\n",
    "        classifier.predict(X_test))))\n",
    "\n",
    "print(\"Logistic regression using raw pixel features:\\n%s\\n\" % (\n",
    "    metrics.classification_report(\n",
    "        Y_test,\n",
    "        logistic_classifier.predict(X_test))))"
   ]
  },
  {
   "cell_type": "code",
   "execution_count": 69,
   "metadata": {},
   "outputs": [],
   "source": [
    "##NOW RBM"
   ]
  },
  {
   "cell_type": "code",
   "execution_count": 70,
   "metadata": {},
   "outputs": [],
   "source": [
    "import numpy as np\n",
    "import matplotlib.pyplot as plt\n",
    "\n",
    "from scipy.ndimage import convolve\n",
    "from sklearn import linear_model, datasets, metrics\n",
    "from sklearn.model_selection import train_test_split\n",
    "from sklearn.neural_network import BernoulliRBM\n",
    "from sklearn.pipeline import Pipeline\n",
    "from sklearn.preprocessing import minmax_scale\n",
    "from sklearn.base import clone"
   ]
  },
  {
   "cell_type": "code",
   "execution_count": 71,
   "metadata": {},
   "outputs": [],
   "source": [
    "logistic = linear_model.LogisticRegression(solver='newton-cg', tol=1)\n",
    "rbm = BernoulliRBM(random_state=0, verbose=True)\n",
    "\n",
    "rbm_features_classifier = Pipeline(\n",
    "    steps=[('rbm', rbm), ('logistic', logistic)])"
   ]
  },
  {
   "cell_type": "code",
   "execution_count": 72,
   "metadata": {},
   "outputs": [],
   "source": [
    "rbm.learning_rate = 0.06\n",
    "rbm.n_iter = 10\n",
    "\n",
    "rbm.n_components = 100\n",
    "logistic.C = 6000\n"
   ]
  },
  {
   "cell_type": "code",
   "execution_count": 73,
   "metadata": {},
   "outputs": [
    {
     "name": "stdout",
     "output_type": "stream",
     "text": [
      "[BernoulliRBM] Iteration 1, pseudo-likelihood = -145.53, time = 6.20s\n",
      "[BernoulliRBM] Iteration 2, pseudo-likelihood = -128.12, time = 7.02s\n",
      "[BernoulliRBM] Iteration 3, pseudo-likelihood = -122.91, time = 6.99s\n",
      "[BernoulliRBM] Iteration 4, pseudo-likelihood = -117.90, time = 7.02s\n",
      "[BernoulliRBM] Iteration 5, pseudo-likelihood = -117.66, time = 7.01s\n",
      "[BernoulliRBM] Iteration 6, pseudo-likelihood = -117.75, time = 6.97s\n",
      "[BernoulliRBM] Iteration 7, pseudo-likelihood = -109.95, time = 6.88s\n",
      "[BernoulliRBM] Iteration 8, pseudo-likelihood = -119.07, time = 7.01s\n",
      "[BernoulliRBM] Iteration 9, pseudo-likelihood = -117.34, time = 7.17s\n",
      "[BernoulliRBM] Iteration 10, pseudo-likelihood = -115.26, time = 7.31s\n"
     ]
    },
    {
     "data": {
      "text/plain": [
       "Pipeline(memory=None,\n",
       "         steps=[('rbm',\n",
       "                 BernoulliRBM(batch_size=10, learning_rate=0.06,\n",
       "                              n_components=100, n_iter=10, random_state=0,\n",
       "                              verbose=True)),\n",
       "                ('logistic',\n",
       "                 LogisticRegression(C=6000, class_weight=None, dual=False,\n",
       "                                    fit_intercept=True, intercept_scaling=1,\n",
       "                                    l1_ratio=None, max_iter=100,\n",
       "                                    multi_class='auto', n_jobs=None,\n",
       "                                    penalty='l2', random_state=None,\n",
       "                                    solver='newton-cg', tol=1, verbose=0,\n",
       "                                    warm_start=False))],\n",
       "         verbose=False)"
      ]
     },
     "execution_count": 73,
     "metadata": {},
     "output_type": "execute_result"
    }
   ],
   "source": [
    "rbm_features_classifier.fit(X_train, Y_train)"
   ]
  },
  {
   "cell_type": "code",
   "execution_count": 74,
   "metadata": {},
   "outputs": [
    {
     "data": {
      "text/plain": [
       "LogisticRegression(C=100.0, class_weight=None, dual=False, fit_intercept=True,\n",
       "                   intercept_scaling=1, l1_ratio=None, max_iter=100,\n",
       "                   multi_class='auto', n_jobs=None, penalty='l2',\n",
       "                   random_state=None, solver='newton-cg', tol=1, verbose=0,\n",
       "                   warm_start=False)"
      ]
     },
     "execution_count": 74,
     "metadata": {},
     "output_type": "execute_result"
    }
   ],
   "source": [
    "raw_pixel_classifier = clone(logistic)\n",
    "raw_pixel_classifier.C = 100.\n",
    "raw_pixel_classifier.fit(X_train, Y_train)"
   ]
  },
  {
   "cell_type": "code",
   "execution_count": 75,
   "metadata": {
    "scrolled": true
   },
   "outputs": [
    {
     "name": "stdout",
     "output_type": "stream",
     "text": [
      "Logistic regression using RBM features:\n",
      "              precision    recall  f1-score   support\n",
      "\n",
      "           0       0.93      0.96      0.94       826\n",
      "           1       0.97      0.98      0.97       936\n",
      "           2       0.85      0.86      0.85       835\n",
      "           3       0.73      0.75      0.74       870\n",
      "           4       0.90      0.90      0.90       814\n",
      "           5       0.74      0.63      0.68       759\n",
      "           6       0.90      0.93      0.91       827\n",
      "           7       0.93      0.92      0.92       880\n",
      "           8       0.81      0.84      0.83       813\n",
      "           9       0.86      0.85      0.86       838\n",
      "\n",
      "    accuracy                           0.86      8398\n",
      "   macro avg       0.86      0.86      0.86      8398\n",
      "weighted avg       0.86      0.86      0.86      8398\n",
      "\n",
      "\n",
      "Logistic regression using raw pixel features:\n",
      "              precision    recall  f1-score   support\n",
      "\n",
      "           0       0.88      0.75      0.81       826\n",
      "           1       0.95      0.88      0.92       936\n",
      "           2       0.50      0.90      0.64       835\n",
      "           3       0.63      0.61      0.62       870\n",
      "           4       0.72      0.85      0.78       814\n",
      "           5       0.52      0.57      0.55       759\n",
      "           6       0.91      0.76      0.83       827\n",
      "           7       0.83      0.81      0.82       880\n",
      "           8       0.73      0.58      0.65       813\n",
      "           9       0.91      0.54      0.68       838\n",
      "\n",
      "    accuracy                           0.73      8398\n",
      "   macro avg       0.76      0.73      0.73      8398\n",
      "weighted avg       0.76      0.73      0.73      8398\n",
      "\n",
      "\n"
     ]
    }
   ],
   "source": [
    "Y_pred = rbm_features_classifier.predict(X_test)\n",
    "print(\"Logistic regression using RBM features:\\n%s\\n\" % (\n",
    "    metrics.classification_report(Y_test, Y_pred)))\n",
    "\n",
    "Y_pred = raw_pixel_classifier.predict(X_test)\n",
    "print(\"Logistic regression using raw pixel features:\\n%s\\n\" % (\n",
    "    metrics.classification_report(Y_test, Y_pred)))"
   ]
  },
  {
   "cell_type": "code",
   "execution_count": 85,
   "metadata": {},
   "outputs": [
    {
     "data": {
      "image/png": "[encoded data removed]",
      "text/plain": [
       "<Figure size 302.4x288 with 100 Axes>"
      ]
     },
     "metadata": {},
     "output_type": "display_data"
    }
   ],
   "source": [
    "plt.figure(figsize=(4.2, 4))\n",
    "for i, comp in enumerate(rbm.components_):\n",
    "    plt.subplot(10, 10, i + 1)\n",
    "    plt.imshow(comp.reshape((28, 28)), cmap=plt.cm.gray_r,\n",
    "               interpolation='nearest')\n",
    "    plt.xticks(())\n",
    "    plt.yticks(())\n",
    "plt.suptitle('100 components extracted by RBM', fontsize=16)\n",
    "plt.subplots_adjust(0.08, 0.02, 0.92, 0.85, 0.08, 0.23)\n",
    "plt.savefig(r'C:\\Users\\KIIT\\AppData\\Local\\Programs\\Python\\Python36\\Scripts\\Untitled Folder 2\\mnist_rbm_components.png', bbox_inches = 'tight')\n",
    "plt.show()\n",
    "plt.close()"
   ]
  },
  {
   "cell_type": "code",
   "execution_count": 93,
   "metadata": {
    "scrolled": false
   },
   "outputs": [
    {
     "name": "stdout",
     "output_type": "stream",
     "text": [
      "Found 10000 images belonging to 10 classes.\n",
      "Logistic regression using RBM features:\n",
      "              precision    recall  f1-score   support\n",
      "\n",
      "           0       0.92      0.92      0.92       952\n",
      "           1       0.86      0.97      0.91       996\n",
      "           2       0.81      0.77      0.79       991\n",
      "           3       0.85      0.77      0.81      1280\n",
      "           4       0.81      0.89      0.85       788\n",
      "           5       0.68      0.77      0.72       623\n",
      "           6       0.86      0.86      0.86       710\n",
      "           7       0.83      0.93      0.87      1130\n",
      "           8       0.90      0.74      0.82      1199\n",
      "           9       0.86      0.83      0.85      1331\n",
      "\n",
      "    accuracy                           0.84     10000\n",
      "   macro avg       0.84      0.85      0.84     10000\n",
      "weighted avg       0.85      0.84      0.84     10000\n",
      "\n",
      "\n",
      "Logistic regression using raw pixel features:\n",
      "              precision    recall  f1-score   support\n",
      "\n",
      "           0       0.92      0.87      0.90       952\n",
      "           1       0.85      0.95      0.90       996\n",
      "           2       0.74      0.72      0.73       991\n",
      "           3       0.56      0.58      0.57      1280\n",
      "           4       0.86      0.72      0.78       788\n",
      "           5       0.38      0.64      0.48       623\n",
      "           6       0.84      0.81      0.82       710\n",
      "           7       0.76      0.90      0.82      1130\n",
      "           8       0.81      0.49      0.61      1199\n",
      "           9       0.81      0.76      0.79      1331\n",
      "\n",
      "    accuracy                           0.74     10000\n",
      "   macro avg       0.75      0.74      0.74     10000\n",
      "weighted avg       0.76      0.74      0.74     10000\n",
      "\n",
      "\n"
     ]
    }
   ],
   "source": [
    "#DBN for GAN\n",
    "test_set = test_datagen.flow_from_directory(r'C:\\Users\\KIIT\\AppData\\Local\\Programs\\Python\\Python36\\Scripts\\Untitled Folder 2\\GAN Images\\Classes',\n",
    "                                            target_size = (28, 28),\n",
    "                                            batch_size = 10000,\n",
    "                                            class_mode = 'categorical')\n",
    "X_test, Y_test = test_set.next()\n",
    "X_test = X_test[:, :, :, 0]\n",
    "\n",
    "labels = []\n",
    "for i in range(len(Y_test)):\n",
    "    labels.append(np.where(Y_test[i] == 1)[0][0])\n",
    "Y_test = np.array(labels)\n",
    "\n",
    "X_test_mat = np.zeros(shape=(10000, 28*28))\n",
    "\n",
    "for row in range(len(X_test)):\n",
    "    X_test_mat[row] = X_test[row].ravel()\n",
    "X_test = X_test_mat\n",
    "\n",
    "X_test = np.asarray(X_test, 'float32')\n",
    "X_test = minmax_scale(X_test, feature_range=(0, 1))\n",
    "\n",
    "print(\"Logistic regression using RBM features:\\n%s\\n\" % (\n",
    "    metrics.classification_report(\n",
    "        Y_test,\n",
    "        classifier.predict(X_test))))\n",
    "\n",
    "print(\"Logistic regression using raw pixel features:\\n%s\\n\" % (\n",
    "    metrics.classification_report(\n",
    "        Y_test,\n",
    "        logistic_classifier.predict(X_test))))"
   ]
  },
  {
   "cell_type": "code",
   "execution_count": 94,
   "metadata": {},
   "outputs": [
    {
     "name": "stdout",
     "output_type": "stream",
     "text": [
      "Logistic regression using RBM features:\n",
      "              precision    recall  f1-score   support\n",
      "\n",
      "           0       0.89      0.90      0.90       952\n",
      "           1       0.87      0.94      0.90       996\n",
      "           2       0.75      0.69      0.72       991\n",
      "           3       0.72      0.64      0.68      1280\n",
      "           4       0.74      0.84      0.79       788\n",
      "           5       0.59      0.48      0.53       623\n",
      "           6       0.80      0.81      0.81       710\n",
      "           7       0.84      0.88      0.86      1130\n",
      "           8       0.66      0.76      0.71      1199\n",
      "           9       0.82      0.76      0.79      1331\n",
      "\n",
      "    accuracy                           0.78     10000\n",
      "   macro avg       0.77      0.77      0.77     10000\n",
      "weighted avg       0.77      0.78      0.77     10000\n",
      "\n",
      "\n"
     ]
    }
   ],
   "source": [
    "#RBM for GAN\n",
    "Y_pred = rbm_features_classifier.predict(X_test)\n",
    "print(\"Logistic regression using RBM features:\\n%s\\n\" % (\n",
    "    metrics.classification_report(Y_test, Y_pred)))"
   ]
  },
  {
   "cell_type": "code",
   "execution_count": 95,
   "metadata": {
    "scrolled": true
   },
   "outputs": [
    {
     "name": "stdout",
     "output_type": "stream",
     "text": [
      "Found 10000 images belonging to 10 classes.\n",
      "Logistic regression using RBM features:\n",
      "              precision    recall  f1-score   support\n",
      "\n",
      "           0       0.91      0.88      0.90       948\n",
      "           1       0.87      0.95      0.91      1043\n",
      "           2       0.80      0.79      0.80       925\n",
      "           3       0.79      0.70      0.74      1012\n",
      "           4       0.85      0.93      0.89      1019\n",
      "           5       0.66      0.76      0.71       794\n",
      "           6       0.90      0.84      0.87      1112\n",
      "           7       0.82      0.90      0.86      1008\n",
      "           8       0.85      0.77      0.81      1070\n",
      "           9       0.81      0.77      0.79      1069\n",
      "\n",
      "    accuracy                           0.83     10000\n",
      "   macro avg       0.83      0.83      0.83     10000\n",
      "weighted avg       0.83      0.83      0.83     10000\n",
      "\n",
      "\n",
      "Logistic regression using raw pixel features:\n",
      "              precision    recall  f1-score   support\n",
      "\n",
      "           0       0.89      0.81      0.85       948\n",
      "           1       0.76      0.95      0.85      1043\n",
      "           2       0.74      0.69      0.71       925\n",
      "           3       0.60      0.60      0.60      1012\n",
      "           4       0.78      0.86      0.82      1019\n",
      "           5       0.52      0.60      0.55       794\n",
      "           6       0.83      0.78      0.80      1112\n",
      "           7       0.69      0.85      0.76      1008\n",
      "           8       0.79      0.48      0.60      1070\n",
      "           9       0.73      0.68      0.70      1069\n",
      "\n",
      "    accuracy                           0.73     10000\n",
      "   macro avg       0.73      0.73      0.72     10000\n",
      "weighted avg       0.74      0.73      0.73     10000\n",
      "\n",
      "\n"
     ]
    }
   ],
   "source": [
    "#DBN for DCGAN\n",
    "test_set = test_datagen.flow_from_directory(r'C:\\Users\\KIIT\\AppData\\Local\\Programs\\Python\\Python36\\Scripts\\Untitled Folder 2\\DCGAN Images\\Classes',\n",
    "                                            target_size = (28, 28),\n",
    "                                            batch_size = 10000,\n",
    "                                            class_mode = 'categorical')\n",
    "X_test, Y_test = test_set.next()\n",
    "X_test = X_test[:, :, :, 0]\n",
    "\n",
    "labels = []\n",
    "for i in range(len(Y_test)):\n",
    "    labels.append(np.where(Y_test[i] == 1)[0][0])\n",
    "Y_test = np.array(labels)\n",
    "\n",
    "X_test_mat = np.zeros(shape=(10000, 28*28))\n",
    "\n",
    "for row in range(len(X_test)):\n",
    "    X_test_mat[row] = X_test[row].ravel()\n",
    "X_test = X_test_mat\n",
    "\n",
    "X_test = np.asarray(X_test, 'float32')\n",
    "X_test = minmax_scale(X_test, feature_range=(0, 1))\n",
    "\n",
    "print(\"Logistic regression using RBM features:\\n%s\\n\" % (\n",
    "    metrics.classification_report(\n",
    "        Y_test,\n",
    "        classifier.predict(X_test))))\n",
    "\n",
    "print(\"Logistic regression using raw pixel features:\\n%s\\n\" % (\n",
    "    metrics.classification_report(\n",
    "        Y_test,\n",
    "        logistic_classifier.predict(X_test))))"
   ]
  },
  {
   "cell_type": "code",
   "execution_count": 96,
   "metadata": {},
   "outputs": [
    {
     "name": "stdout",
     "output_type": "stream",
     "text": [
      "Logistic regression using RBM features:\n",
      "              precision    recall  f1-score   support\n",
      "\n",
      "           0       0.84      0.87      0.86       948\n",
      "           1       0.83      0.94      0.88      1043\n",
      "           2       0.76      0.74      0.75       925\n",
      "           3       0.65      0.64      0.64      1012\n",
      "           4       0.77      0.85      0.81      1019\n",
      "           5       0.60      0.53      0.56       794\n",
      "           6       0.84      0.79      0.82      1112\n",
      "           7       0.79      0.85      0.82      1008\n",
      "           8       0.74      0.68      0.71      1070\n",
      "           9       0.75      0.69      0.72      1069\n",
      "\n",
      "    accuracy                           0.76     10000\n",
      "   macro avg       0.76      0.76      0.76     10000\n",
      "weighted avg       0.76      0.76      0.76     10000\n",
      "\n",
      "\n"
     ]
    }
   ],
   "source": [
    "#RBM for DCGAN\n",
    "Y_pred = rbm_features_classifier.predict(X_test)\n",
    "print(\"Logistic regression using RBM features:\\n%s\\n\" % (\n",
    "    metrics.classification_report(Y_test, Y_pred)))"
   ]
  },
  {
   "cell_type": "code",
   "execution_count": 97,
   "metadata": {
    "scrolled": true
   },
   "outputs": [
    {
     "name": "stdout",
     "output_type": "stream",
     "text": [
      "Found 11202 images belonging to 10 classes.\n",
      "Logistic regression using RBM features:\n",
      "              precision    recall  f1-score   support\n",
      "\n",
      "           0       0.94      0.87      0.90       905\n",
      "           1       0.82      0.98      0.89      1120\n",
      "           2       0.79      0.71      0.75       851\n",
      "           3       0.71      0.75      0.73       730\n",
      "           4       0.81      0.88      0.85       891\n",
      "           5       0.76      0.74      0.75       758\n",
      "           6       0.86      0.85      0.85       589\n",
      "           7       0.86      0.91      0.88      1977\n",
      "           8       0.89      0.67      0.76      1144\n",
      "           9       0.79      0.81      0.80      1035\n",
      "\n",
      "    accuracy                           0.83     10000\n",
      "   macro avg       0.82      0.82      0.82     10000\n",
      "weighted avg       0.83      0.83      0.83     10000\n",
      "\n",
      "\n",
      "Logistic regression using raw pixel features:\n",
      "              precision    recall  f1-score   support\n",
      "\n",
      "           0       0.89      0.84      0.87       905\n",
      "           1       0.86      0.94      0.90      1120\n",
      "           2       0.74      0.74      0.74       851\n",
      "           3       0.48      0.58      0.52       730\n",
      "           4       0.85      0.70      0.77       891\n",
      "           5       0.47      0.64      0.54       758\n",
      "           6       0.81      0.84      0.82       589\n",
      "           7       0.85      0.87      0.86      1977\n",
      "           8       0.81      0.54      0.65      1144\n",
      "           9       0.75      0.74      0.74      1035\n",
      "\n",
      "    accuracy                           0.76     10000\n",
      "   macro avg       0.75      0.74      0.74     10000\n",
      "weighted avg       0.77      0.76      0.76     10000\n",
      "\n",
      "\n"
     ]
    }
   ],
   "source": [
    "#DBN for CoupledGAN\n",
    "test_set = test_datagen.flow_from_directory(r'C:\\Users\\KIIT\\AppData\\Local\\Programs\\Python\\Python36\\Scripts\\Untitled Folder 2\\CoupledGAN Images\\Classes',\n",
    "                                            target_size = (28, 28),\n",
    "                                            batch_size = 10000,\n",
    "                                            class_mode = 'categorical')\n",
    "X_test, Y_test = test_set.next()\n",
    "X_test = X_test[:, :, :, 0]\n",
    "\n",
    "labels = []\n",
    "for i in range(len(Y_test)):\n",
    "    labels.append(np.where(Y_test[i] == 1)[0][0])\n",
    "Y_test = np.array(labels)\n",
    "\n",
    "X_test_mat = np.zeros(shape=(10000, 28*28))\n",
    "\n",
    "for row in range(len(X_test)):\n",
    "    X_test_mat[row] = X_test[row].ravel()\n",
    "X_test = X_test_mat\n",
    "\n",
    "X_test = np.asarray(X_test, 'float32')\n",
    "X_test = minmax_scale(X_test, feature_range=(0, 1))\n",
    "\n",
    "print(\"Logistic regression using RBM features:\\n%s\\n\" % (\n",
    "    metrics.classification_report(\n",
    "        Y_test,\n",
    "        classifier.predict(X_test))))\n",
    "\n",
    "print(\"Logistic regression using raw pixel features:\\n%s\\n\" % (\n",
    "    metrics.classification_report(\n",
    "        Y_test,\n",
    "        logistic_classifier.predict(X_test))))"
   ]
  },
  {
   "cell_type": "code",
   "execution_count": 98,
   "metadata": {},
   "outputs": [
    {
     "name": "stdout",
     "output_type": "stream",
     "text": [
      "Logistic regression using RBM features:\n",
      "              precision    recall  f1-score   support\n",
      "\n",
      "           0       0.87      0.86      0.87       905\n",
      "           1       0.87      0.95      0.91      1120\n",
      "           2       0.72      0.73      0.72       851\n",
      "           3       0.59      0.64      0.61       730\n",
      "           4       0.76      0.83      0.79       891\n",
      "           5       0.61      0.51      0.56       758\n",
      "           6       0.85      0.80      0.83       589\n",
      "           7       0.88      0.85      0.87      1977\n",
      "           8       0.72      0.70      0.71      1144\n",
      "           9       0.73      0.74      0.73      1035\n",
      "\n",
      "    accuracy                           0.78     10000\n",
      "   macro avg       0.76      0.76      0.76     10000\n",
      "weighted avg       0.78      0.78      0.78     10000\n",
      "\n",
      "\n"
     ]
    }
   ],
   "source": [
    "#RBM for CoupledGAN\n",
    "Y_pred = rbm_features_classifier.predict(X_test)\n",
    "print(\"Logistic regression using RBM features:\\n%s\\n\" % (\n",
    "    metrics.classification_report(Y_test, Y_pred)))"
   ]
  },
  {
   "cell_type": "code",
   "execution_count": 107,
   "metadata": {
    "scrolled": true
   },
   "outputs": [
    {
     "name": "stdout",
     "output_type": "stream",
     "text": [
      "Found 10000 images belonging to 10 classes.\n",
      "Logistic regression using RBM features:\n",
      "              precision    recall  f1-score   support\n",
      "\n",
      "           0       0.86      0.87      0.86       792\n",
      "           1       0.78      0.98      0.87       777\n",
      "           2       0.73      0.69      0.71       826\n",
      "           3       0.77      0.63      0.70      1237\n",
      "           4       0.73      0.88      0.80       850\n",
      "           5       0.60      0.62      0.61       685\n",
      "           6       0.81      0.74      0.77       549\n",
      "           7       0.76      0.90      0.82      1084\n",
      "           8       0.81      0.59      0.68       947\n",
      "           9       0.76      0.75      0.75      1051\n",
      "\n",
      "    accuracy                           0.76      8798\n",
      "   macro avg       0.76      0.76      0.76      8798\n",
      "weighted avg       0.76      0.76      0.76      8798\n",
      "\n",
      "\n",
      "Logistic regression using raw pixel features:\n",
      "              precision    recall  f1-score   support\n",
      "\n",
      "           0       0.84      0.79      0.82       792\n",
      "           1       0.76      0.96      0.85       777\n",
      "           2       0.64      0.67      0.65       826\n",
      "           3       0.58      0.48      0.52      1237\n",
      "           4       0.76      0.71      0.74       850\n",
      "           5       0.37      0.64      0.47       685\n",
      "           6       0.77      0.63      0.69       549\n",
      "           7       0.68      0.88      0.77      1084\n",
      "           8       0.76      0.33      0.46       947\n",
      "           9       0.71      0.63      0.67      1051\n",
      "\n",
      "    accuracy                           0.66      8798\n",
      "   macro avg       0.69      0.67      0.66      8798\n",
      "weighted avg       0.68      0.66      0.66      8798\n",
      "\n",
      "\n"
     ]
    }
   ],
   "source": [
    "#DBN for BiGAN\n",
    "test_set = test_datagen.flow_from_directory(r'C:\\Users\\KIIT\\AppData\\Local\\Programs\\Python\\Python36\\Scripts\\Untitled Folder 2\\BiGAN Images\\Classes',\n",
    "                                            target_size = (28, 28),\n",
    "                                            batch_size = 8798,\n",
    "                                            class_mode = 'categorical')\n",
    "X_test, Y_test = test_set.next()\n",
    "X_test = X_test[:, :, :, 0]\n",
    "\n",
    "labels = []\n",
    "for i in range(len(Y_test)):\n",
    "    labels.append(np.where(Y_test[i] == 1)[0][0])\n",
    "Y_test = np.array(labels)\n",
    "\n",
    "X_test_mat = np.zeros(shape=(8798, 28*28))\n",
    "\n",
    "for row in range(len(X_test)):\n",
    "    X_test_mat[row] = X_test[row].ravel()\n",
    "X_test = X_test_mat\n",
    "\n",
    "X_test = np.asarray(X_test, 'float32')\n",
    "X_test = minmax_scale(X_test, feature_range=(0, 1))\n",
    "\n",
    "print(\"Logistic regression using RBM features:\\n%s\\n\" % (\n",
    "    metrics.classification_report(\n",
    "        Y_test,\n",
    "        classifier.predict(X_test))))\n",
    "\n",
    "print(\"Logistic regression using raw pixel features:\\n%s\\n\" % (\n",
    "    metrics.classification_report(\n",
    "        Y_test,\n",
    "        logistic_classifier.predict(X_test))))"
   ]
  },
  {
   "cell_type": "code",
   "execution_count": 108,
   "metadata": {},
   "outputs": [
    {
     "name": "stdout",
     "output_type": "stream",
     "text": [
      "Logistic regression using RBM features:\n",
      "              precision    recall  f1-score   support\n",
      "\n",
      "           0       0.78      0.85      0.81       792\n",
      "           1       0.80      0.95      0.87       777\n",
      "           2       0.68      0.65      0.66       826\n",
      "           3       0.68      0.52      0.59      1237\n",
      "           4       0.67      0.79      0.73       850\n",
      "           5       0.46      0.44      0.45       685\n",
      "           6       0.76      0.64      0.69       549\n",
      "           7       0.79      0.84      0.81      1084\n",
      "           8       0.56      0.61      0.58       947\n",
      "           9       0.72      0.66      0.69      1051\n",
      "\n",
      "    accuracy                           0.69      8798\n",
      "   macro avg       0.69      0.70      0.69      8798\n",
      "weighted avg       0.69      0.69      0.69      8798\n",
      "\n",
      "\n"
     ]
    }
   ],
   "source": [
    "#RBM for BiGAN\n",
    "Y_pred = rbm_features_classifier.predict(X_test)\n",
    "print(\"Logistic regression using RBM features:\\n%s\\n\" % (\n",
    "    metrics.classification_report(Y_test, Y_pred)))"
   ]
  },
  {
   "cell_type": "code",
   "execution_count": 103,
   "metadata": {
    "scrolled": true
   },
   "outputs": [
    {
     "name": "stdout",
     "output_type": "stream",
     "text": [
      "Found 10000 images belonging to 10 classes.\n",
      "Logistic regression using RBM features:\n",
      "              precision    recall  f1-score   support\n",
      "\n",
      "           0       0.97      0.96      0.96      1000\n",
      "           1       0.99      0.96      0.97      1000\n",
      "           2       0.97      0.90      0.93      1000\n",
      "           3       0.87      0.91      0.89      1000\n",
      "           4       0.91      0.93      0.92      1000\n",
      "           5       0.85      0.85      0.85      1000\n",
      "           6       0.92      0.94      0.93      1000\n",
      "           7       0.93      0.94      0.94      1000\n",
      "           8       0.88      0.96      0.92      1000\n",
      "           9       0.94      0.86      0.90      1000\n",
      "\n",
      "    accuracy                           0.92     10000\n",
      "   macro avg       0.92      0.92      0.92     10000\n",
      "weighted avg       0.92      0.92      0.92     10000\n",
      "\n",
      "\n",
      "Logistic regression using raw pixel features:\n",
      "              precision    recall  f1-score   support\n",
      "\n",
      "           0       0.94      0.92      0.93      1000\n",
      "           1       0.94      0.94      0.94      1000\n",
      "           2       0.91      0.81      0.86      1000\n",
      "           3       0.63      0.78      0.70      1000\n",
      "           4       0.87      0.81      0.84      1000\n",
      "           5       0.57      0.78      0.66      1000\n",
      "           6       0.85      0.91      0.88      1000\n",
      "           7       0.90      0.90      0.90      1000\n",
      "           8       0.83      0.61      0.70      1000\n",
      "           9       0.89      0.70      0.78      1000\n",
      "\n",
      "    accuracy                           0.82     10000\n",
      "   macro avg       0.83      0.82      0.82     10000\n",
      "weighted avg       0.83      0.82      0.82     10000\n",
      "\n",
      "\n"
     ]
    }
   ],
   "source": [
    "#DBN for CGAN\n",
    "test_set = test_datagen.flow_from_directory(r'C:\\Users\\KIIT\\AppData\\Local\\Programs\\Python\\Python36\\Scripts\\Untitled Folder 2\\CGAN Images\\Classes',\n",
    "                                            target_size = (28, 28),\n",
    "                                            batch_size = 10000,\n",
    "                                            class_mode = 'categorical')\n",
    "X_test, Y_test = test_set.next()\n",
    "X_test = X_test[:, :, :, 0]\n",
    "\n",
    "labels = []\n",
    "for i in range(len(Y_test)):\n",
    "    labels.append(np.where(Y_test[i] == 1)[0][0])\n",
    "Y_test = np.array(labels)\n",
    "\n",
    "X_test_mat = np.zeros(shape=(10000, 28*28))\n",
    "\n",
    "for row in range(len(X_test)):\n",
    "    X_test_mat[row] = X_test[row].ravel()\n",
    "X_test = X_test_mat\n",
    "\n",
    "X_test = np.asarray(X_test, 'float32')\n",
    "X_test = minmax_scale(X_test, feature_range=(0, 1))\n",
    "\n",
    "print(\"Logistic regression using RBM features:\\n%s\\n\" % (\n",
    "    metrics.classification_report(\n",
    "        Y_test,\n",
    "        classifier.predict(X_test))))\n",
    "\n",
    "print(\"Logistic regression using raw pixel features:\\n%s\\n\" % (\n",
    "    metrics.classification_report(\n",
    "        Y_test,\n",
    "        logistic_classifier.predict(X_test))))"
   ]
  },
  {
   "cell_type": "code",
   "execution_count": 104,
   "metadata": {},
   "outputs": [
    {
     "name": "stdout",
     "output_type": "stream",
     "text": [
      "Logistic regression using RBM features:\n",
      "              precision    recall  f1-score   support\n",
      "\n",
      "           0       0.96      0.96      0.96      1000\n",
      "           1       0.99      0.94      0.97      1000\n",
      "           2       0.93      0.92      0.92      1000\n",
      "           3       0.78      0.79      0.79      1000\n",
      "           4       0.89      0.89      0.89      1000\n",
      "           5       0.82      0.74      0.78      1000\n",
      "           6       0.92      0.90      0.91      1000\n",
      "           7       0.95      0.90      0.92      1000\n",
      "           8       0.69      0.94      0.80      1000\n",
      "           9       0.89      0.79      0.84      1000\n",
      "\n",
      "    accuracy                           0.88     10000\n",
      "   macro avg       0.88      0.88      0.88     10000\n",
      "weighted avg       0.88      0.88      0.88     10000\n",
      "\n",
      "\n"
     ]
    }
   ],
   "source": [
    "#RBM for CGAN\n",
    "Y_pred = rbm_features_classifier.predict(X_test)\n",
    "print(\"Logistic regression using RBM features:\\n%s\\n\" % (\n",
    "    metrics.classification_report(Y_test, Y_pred)))"
   ]
  },
  {
   "cell_type": "code",
   "execution_count": 105,
   "metadata": {
    "scrolled": true
   },
   "outputs": [
    {
     "name": "stdout",
     "output_type": "stream",
     "text": [
      "Found 10000 images belonging to 10 classes.\n",
      "Logistic regression using RBM features:\n",
      "              precision    recall  f1-score   support\n",
      "\n",
      "           0       0.92      0.90      0.91       832\n",
      "           1       0.83      0.97      0.90      1157\n",
      "           2       0.77      0.66      0.71       654\n",
      "           3       0.82      0.76      0.79      1535\n",
      "           4       0.83      0.90      0.87       740\n",
      "           5       0.71      0.77      0.74       963\n",
      "           6       0.88      0.87      0.88       946\n",
      "           7       0.83      0.93      0.87      1133\n",
      "           8       0.84      0.68      0.75      1004\n",
      "           9       0.82      0.80      0.81      1036\n",
      "\n",
      "    accuracy                           0.83     10000\n",
      "   macro avg       0.83      0.82      0.82     10000\n",
      "weighted avg       0.83      0.83      0.82     10000\n",
      "\n",
      "\n",
      "Logistic regression using raw pixel features:\n",
      "              precision    recall  f1-score   support\n",
      "\n",
      "           0       0.89      0.84      0.86       832\n",
      "           1       0.82      0.96      0.88      1157\n",
      "           2       0.68      0.67      0.67       654\n",
      "           3       0.70      0.60      0.64      1535\n",
      "           4       0.85      0.75      0.80       740\n",
      "           5       0.51      0.72      0.59       963\n",
      "           6       0.85      0.76      0.80       946\n",
      "           7       0.81      0.84      0.82      1133\n",
      "           8       0.72      0.51      0.60      1004\n",
      "           9       0.70      0.78      0.73      1036\n",
      "\n",
      "    accuracy                           0.74     10000\n",
      "   macro avg       0.75      0.74      0.74     10000\n",
      "weighted avg       0.75      0.74      0.74     10000\n",
      "\n",
      "\n"
     ]
    }
   ],
   "source": [
    "#DBN for LSGAN\n",
    "test_set = test_datagen.flow_from_directory(r'C:\\Users\\KIIT\\AppData\\Local\\Programs\\Python\\Python36\\Scripts\\Untitled Folder 2\\LSGAN Images\\Classes',\n",
    "                                            target_size = (28, 28),\n",
    "                                            batch_size = 10000,\n",
    "                                            class_mode = 'categorical')\n",
    "X_test, Y_test = test_set.next()\n",
    "X_test = X_test[:, :, :, 0]\n",
    "\n",
    "labels = []\n",
    "for i in range(len(Y_test)):\n",
    "    labels.append(np.where(Y_test[i] == 1)[0][0])\n",
    "Y_test = np.array(labels)\n",
    "\n",
    "X_test_mat = np.zeros(shape=(10000, 28*28))\n",
    "\n",
    "for row in range(len(X_test)):\n",
    "    X_test_mat[row] = X_test[row].ravel()\n",
    "X_test = X_test_mat\n",
    "\n",
    "X_test = np.asarray(X_test, 'float32')\n",
    "X_test = minmax_scale(X_test, feature_range=(0, 1))\n",
    "\n",
    "print(\"Logistic regression using RBM features:\\n%s\\n\" % (\n",
    "    metrics.classification_report(\n",
    "        Y_test,\n",
    "        classifier.predict(X_test))))\n",
    "\n",
    "print(\"Logistic regression using raw pixel features:\\n%s\\n\" % (\n",
    "    metrics.classification_report(\n",
    "        Y_test,\n",
    "        logistic_classifier.predict(X_test))))"
   ]
  },
  {
   "cell_type": "code",
   "execution_count": 106,
   "metadata": {},
   "outputs": [
    {
     "name": "stdout",
     "output_type": "stream",
     "text": [
      "Logistic regression using RBM features:\n",
      "              precision    recall  f1-score   support\n",
      "\n",
      "           0       0.86      0.87      0.86       832\n",
      "           1       0.86      0.96      0.90      1157\n",
      "           2       0.69      0.69      0.69       654\n",
      "           3       0.72      0.67      0.70      1535\n",
      "           4       0.75      0.79      0.77       740\n",
      "           5       0.62      0.50      0.55       963\n",
      "           6       0.84      0.82      0.83       946\n",
      "           7       0.85      0.86      0.85      1133\n",
      "           8       0.65      0.68      0.66      1004\n",
      "           9       0.72      0.78      0.75      1036\n",
      "\n",
      "    accuracy                           0.76     10000\n",
      "   macro avg       0.76      0.76      0.76     10000\n",
      "weighted avg       0.76      0.76      0.76     10000\n",
      "\n",
      "\n"
     ]
    }
   ],
   "source": [
    "#RBM for LSGAN\n",
    "Y_pred = rbm_features_classifier.predict(X_test)\n",
    "print(\"Logistic regression using RBM features:\\n%s\\n\" % (\n",
    "    metrics.classification_report(Y_test, Y_pred)))"
   ]
  },
  {
   "cell_type": "code",
   "execution_count": 109,
   "metadata": {
    "scrolled": true
   },
   "outputs": [
    {
     "name": "stdout",
     "output_type": "stream",
     "text": [
      "Found 10055 images belonging to 10 classes.\n",
      "Logistic regression using RBM features:\n",
      "              precision    recall  f1-score   support\n",
      "\n",
      "           0       0.89      0.90      0.89       873\n",
      "           1       0.84      0.97      0.90      1016\n",
      "           2       0.80      0.76      0.78      1120\n",
      "           3       0.79      0.65      0.72      1185\n",
      "           4       0.81      0.88      0.85       858\n",
      "           5       0.63      0.71      0.67       826\n",
      "           6       0.88      0.84      0.86      1093\n",
      "           7       0.79      0.91      0.84       910\n",
      "           8       0.80      0.73      0.76      1117\n",
      "           9       0.80      0.74      0.77      1002\n",
      "\n",
      "    accuracy                           0.80     10000\n",
      "   macro avg       0.80      0.81      0.80     10000\n",
      "weighted avg       0.80      0.80      0.80     10000\n",
      "\n",
      "\n",
      "Logistic regression using raw pixel features:\n",
      "              precision    recall  f1-score   support\n",
      "\n",
      "           0       0.84      0.85      0.84       873\n",
      "           1       0.76      0.96      0.85      1016\n",
      "           2       0.80      0.70      0.75      1120\n",
      "           3       0.67      0.50      0.57      1185\n",
      "           4       0.78      0.77      0.77       858\n",
      "           5       0.46      0.63      0.53       826\n",
      "           6       0.83      0.77      0.80      1093\n",
      "           7       0.72      0.84      0.78       910\n",
      "           8       0.72      0.55      0.62      1117\n",
      "           9       0.69      0.72      0.70      1002\n",
      "\n",
      "    accuracy                           0.72     10000\n",
      "   macro avg       0.73      0.73      0.72     10000\n",
      "weighted avg       0.73      0.72      0.72     10000\n",
      "\n",
      "\n"
     ]
    }
   ],
   "source": [
    "#DBN for WGAN_Improved\n",
    "test_set = test_datagen.flow_from_directory(r'C:\\Users\\KIIT\\AppData\\Local\\Programs\\Python\\Python36\\Scripts\\Untitled Folder 2\\WGAN_Improved\\Classes',\n",
    "                                            target_size = (28, 28),\n",
    "                                            batch_size = 10000,\n",
    "                                            class_mode = 'categorical')\n",
    "X_test, Y_test = test_set.next()\n",
    "X_test = X_test[:, :, :, 0]\n",
    "\n",
    "labels = []\n",
    "for i in range(len(Y_test)):\n",
    "    labels.append(np.where(Y_test[i] == 1)[0][0])\n",
    "Y_test = np.array(labels)\n",
    "\n",
    "X_test_mat = np.zeros(shape=(10000, 28*28))\n",
    "\n",
    "for row in range(len(X_test)):\n",
    "    X_test_mat[row] = X_test[row].ravel()\n",
    "X_test = X_test_mat\n",
    "\n",
    "X_test = np.asarray(X_test, 'float32')\n",
    "X_test = minmax_scale(X_test, feature_range=(0, 1))\n",
    "\n",
    "print(\"Logistic regression using RBM features:\\n%s\\n\" % (\n",
    "    metrics.classification_report(\n",
    "        Y_test,\n",
    "        classifier.predict(X_test))))\n",
    "\n",
    "print(\"Logistic regression using raw pixel features:\\n%s\\n\" % (\n",
    "    metrics.classification_report(\n",
    "        Y_test,\n",
    "        logistic_classifier.predict(X_test))))"
   ]
  },
  {
   "cell_type": "code",
   "execution_count": 110,
   "metadata": {},
   "outputs": [
    {
     "name": "stdout",
     "output_type": "stream",
     "text": [
      "Logistic regression using RBM features:\n",
      "              precision    recall  f1-score   support\n",
      "\n",
      "           0       0.83      0.86      0.85       873\n",
      "           1       0.81      0.95      0.87      1016\n",
      "           2       0.76      0.71      0.73      1120\n",
      "           3       0.69      0.63      0.66      1185\n",
      "           4       0.74      0.82      0.78       858\n",
      "           5       0.56      0.53      0.55       826\n",
      "           6       0.82      0.79      0.80      1093\n",
      "           7       0.76      0.83      0.79       910\n",
      "           8       0.68      0.61      0.64      1117\n",
      "           9       0.71      0.69      0.70      1002\n",
      "\n",
      "    accuracy                           0.74     10000\n",
      "   macro avg       0.74      0.74      0.74     10000\n",
      "weighted avg       0.74      0.74      0.74     10000\n",
      "\n",
      "\n"
     ]
    }
   ],
   "source": [
    "#RBM for WGAN_Improved\n",
    "Y_pred = rbm_features_classifier.predict(X_test)\n",
    "print(\"Logistic regression using RBM features:\\n%s\\n\" % (\n",
    "    metrics.classification_report(Y_test, Y_pred)))"
   ]
  },
  {
   "cell_type": "code",
   "execution_count": 111,
   "metadata": {},
   "outputs": [
    {
     "name": "stdout",
     "output_type": "stream",
     "text": [
      "Found 10058 images belonging to 10 classes.\n",
      "Logistic regression using RBM features:\n",
      "              precision    recall  f1-score   support\n",
      "\n",
      "           0       0.89      0.90      0.90      1025\n",
      "           1       0.84      0.97      0.90      1009\n",
      "           2       0.82      0.77      0.79      1046\n",
      "           3       0.75      0.73      0.74       913\n",
      "           4       0.83      0.91      0.87       876\n",
      "           5       0.68      0.76      0.72       775\n",
      "           6       0.89      0.83      0.86      1098\n",
      "           7       0.82      0.88      0.85       945\n",
      "           8       0.85      0.74      0.79      1218\n",
      "           9       0.82      0.76      0.79      1095\n",
      "\n",
      "    accuracy                           0.82     10000\n",
      "   macro avg       0.82      0.83      0.82     10000\n",
      "weighted avg       0.83      0.82      0.82     10000\n",
      "\n",
      "\n",
      "Logistic regression using raw pixel features:\n",
      "              precision    recall  f1-score   support\n",
      "\n",
      "           0       0.85      0.83      0.84      1025\n",
      "           1       0.76      0.94      0.84      1009\n",
      "           2       0.75      0.69      0.72      1046\n",
      "           3       0.55      0.52      0.53       913\n",
      "           4       0.79      0.76      0.78       876\n",
      "           5       0.44      0.68      0.53       775\n",
      "           6       0.84      0.77      0.80      1098\n",
      "           7       0.72      0.83      0.77       945\n",
      "           8       0.80      0.49      0.61      1218\n",
      "           9       0.72      0.67      0.70      1095\n",
      "\n",
      "    accuracy                           0.72     10000\n",
      "   macro avg       0.72      0.72      0.71     10000\n",
      "weighted avg       0.73      0.72      0.72     10000\n",
      "\n",
      "\n"
     ]
    }
   ],
   "source": [
    "#DBN for SGAN\n",
    "test_set = test_datagen.flow_from_directory(r'C:\\Users\\KIIT\\AppData\\Local\\Programs\\Python\\Python36\\Scripts\\Untitled Folder 2\\SGAN Images\\Classes',\n",
    "                                            target_size = (28, 28),\n",
    "                                            batch_size = 10000,\n",
    "                                            class_mode = 'categorical')\n",
    "X_test, Y_test = test_set.next()\n",
    "X_test = X_test[:, :, :, 0]\n",
    "\n",
    "labels = []\n",
    "for i in range(len(Y_test)):\n",
    "    labels.append(np.where(Y_test[i] == 1)[0][0])\n",
    "Y_test = np.array(labels)\n",
    "\n",
    "X_test_mat = np.zeros(shape=(10000, 28*28))\n",
    "\n",
    "for row in range(len(X_test)):\n",
    "    X_test_mat[row] = X_test[row].ravel()\n",
    "X_test = X_test_mat\n",
    "\n",
    "X_test = np.asarray(X_test, 'float32')\n",
    "X_test = minmax_scale(X_test, feature_range=(0, 1))\n",
    "\n",
    "print(\"Logistic regression using RBM features:\\n%s\\n\" % (\n",
    "    metrics.classification_report(\n",
    "        Y_test,\n",
    "        classifier.predict(X_test))))\n",
    "\n",
    "print(\"Logistic regression using raw pixel features:\\n%s\\n\" % (\n",
    "    metrics.classification_report(\n",
    "        Y_test,\n",
    "        logistic_classifier.predict(X_test))))"
   ]
  },
  {
   "cell_type": "code",
   "execution_count": 112,
   "metadata": {},
   "outputs": [
    {
     "name": "stdout",
     "output_type": "stream",
     "text": [
      "Logistic regression using RBM features:\n",
      "              precision    recall  f1-score   support\n",
      "\n",
      "           0       0.83      0.87      0.85      1025\n",
      "           1       0.81      0.95      0.88      1009\n",
      "           2       0.77      0.71      0.74      1046\n",
      "           3       0.61      0.62      0.62       913\n",
      "           4       0.77      0.79      0.78       876\n",
      "           5       0.55      0.57      0.56       775\n",
      "           6       0.84      0.79      0.81      1098\n",
      "           7       0.76      0.83      0.80       945\n",
      "           8       0.73      0.64      0.68      1218\n",
      "           9       0.74      0.68      0.71      1095\n",
      "\n",
      "    accuracy                           0.75     10000\n",
      "   macro avg       0.74      0.74      0.74     10000\n",
      "weighted avg       0.75      0.75      0.74     10000\n",
      "\n",
      "\n"
     ]
    }
   ],
   "source": [
    "#RBM for SGAN\n",
    "Y_pred = rbm_features_classifier.predict(X_test)\n",
    "print(\"Logistic regression using RBM features:\\n%s\\n\" % (\n",
    "    metrics.classification_report(Y_test, Y_pred)))"
   ]
  },
  {
   "cell_type": "code",
   "execution_count": 113,
   "metadata": {},
   "outputs": [
    {
     "name": "stdout",
     "output_type": "stream",
     "text": [
      "Found 10000 images belonging to 10 classes.\n",
      "Logistic regression using RBM features:\n",
      "              precision    recall  f1-score   support\n",
      "\n",
      "           0       0.75      0.74      0.75       964\n",
      "           1       0.54      0.79      0.64       448\n",
      "           2       0.63      0.52      0.57      1426\n",
      "           3       0.63      0.45      0.53      1678\n",
      "           4       0.48      0.71      0.57       639\n",
      "           5       0.41      0.45      0.43       919\n",
      "           6       0.54      0.63      0.58       693\n",
      "           7       0.53      0.75      0.62       849\n",
      "           8       0.58      0.44      0.50      1234\n",
      "           9       0.57      0.54      0.55      1150\n",
      "\n",
      "    accuracy                           0.57     10000\n",
      "   macro avg       0.57      0.60      0.57     10000\n",
      "weighted avg       0.58      0.57      0.57     10000\n",
      "\n",
      "\n",
      "Logistic regression using raw pixel features:\n",
      "              precision    recall  f1-score   support\n",
      "\n",
      "           0       0.70      0.66      0.68       964\n",
      "           1       0.43      0.58      0.49       448\n",
      "           2       0.58      0.45      0.51      1426\n",
      "           3       0.41      0.41      0.41      1678\n",
      "           4       0.44      0.38      0.41       639\n",
      "           5       0.29      0.41      0.34       919\n",
      "           6       0.41      0.54      0.47       693\n",
      "           7       0.37      0.63      0.47       849\n",
      "           8       0.47      0.21      0.29      1234\n",
      "           9       0.47      0.37      0.41      1150\n",
      "\n",
      "    accuracy                           0.44     10000\n",
      "   macro avg       0.46      0.46      0.45     10000\n",
      "weighted avg       0.46      0.44      0.44     10000\n",
      "\n",
      "\n"
     ]
    }
   ],
   "source": [
    "#DBN for WGAN\n",
    "test_set = test_datagen.flow_from_directory(r'C:\\Users\\KIIT\\AppData\\Local\\Programs\\Python\\Python36\\Scripts\\Untitled Folder 2\\WGAN Images\\Classes',\n",
    "                                            target_size = (28, 28),\n",
    "                                            batch_size = 10000,\n",
    "                                            class_mode = 'categorical')\n",
    "X_test, Y_test = test_set.next()\n",
    "X_test = X_test[:, :, :, 0]\n",
    "\n",
    "labels = []\n",
    "for i in range(len(Y_test)):\n",
    "    labels.append(np.where(Y_test[i] == 1)[0][0])\n",
    "Y_test = np.array(labels)\n",
    "\n",
    "X_test_mat = np.zeros(shape=(10000, 28*28))\n",
    "\n",
    "for row in range(len(X_test)):\n",
    "    X_test_mat[row] = X_test[row].ravel()\n",
    "X_test = X_test_mat\n",
    "\n",
    "X_test = np.asarray(X_test, 'float32')\n",
    "X_test = minmax_scale(X_test, feature_range=(0, 1))\n",
    "\n",
    "print(\"Logistic regression using RBM features:\\n%s\\n\" % (\n",
    "    metrics.classification_report(\n",
    "        Y_test,\n",
    "        classifier.predict(X_test))))\n",
    "\n",
    "print(\"Logistic regression using raw pixel features:\\n%s\\n\" % (\n",
    "    metrics.classification_report(\n",
    "        Y_test,\n",
    "        logistic_classifier.predict(X_test))))"
   ]
  },
  {
   "cell_type": "code",
   "execution_count": 114,
   "metadata": {},
   "outputs": [
    {
     "name": "stdout",
     "output_type": "stream",
     "text": [
      "Logistic regression using RBM features:\n",
      "              precision    recall  f1-score   support\n",
      "\n",
      "           0       0.68      0.74      0.71       964\n",
      "           1       0.49      0.73      0.59       448\n",
      "           2       0.57      0.49      0.53      1426\n",
      "           3       0.55      0.36      0.43      1678\n",
      "           4       0.35      0.57      0.43       639\n",
      "           5       0.33      0.39      0.36       919\n",
      "           6       0.51      0.51      0.51       693\n",
      "           7       0.54      0.58      0.56       849\n",
      "           8       0.40      0.49      0.44      1234\n",
      "           9       0.53      0.34      0.41      1150\n",
      "\n",
      "    accuracy                           0.49     10000\n",
      "   macro avg       0.50      0.52      0.50     10000\n",
      "weighted avg       0.51      0.49      0.49     10000\n",
      "\n",
      "\n"
     ]
    }
   ],
   "source": [
    "#RBM for WGAN\n",
    "Y_pred = rbm_features_classifier.predict(X_test)\n",
    "print(\"Logistic regression using RBM features:\\n%s\\n\" % (\n",
    "    metrics.classification_report(Y_test, Y_pred)))"
   ]
  },
  {
   "cell_type": "code",
   "execution_count": null,
   "metadata": {},
   "outputs": [],
   "source": []
  }
 ],
 "metadata": {
  "kernelspec": {
   "display_name": "Python 3",
   "language": "python",
   "name": "python3"
  },
  "language_info": {
   "codemirror_mode": {
    "name": "ipython",
    "version": 3
   },
   "file_extension": ".py",
   "mimetype": "text/x-python",
   "name": "python",
   "nbconvert_exporter": "python",
   "pygments_lexer": "ipython3",
   "version": "3.6.6"
  },
  "varInspector": {
   "cols": {
    "lenName": 16,
    "lenType": 16,
    "lenVar": 40
   },
   "kernels_config": {
    "python": {
     "delete_cmd_postfix": "",
     "delete_cmd_prefix": "del ",
     "library": "var_list.py",
     "varRefreshCmd": "print(var_dic_list())"
    },
    "r": {
     "delete_cmd_postfix": ") ",
     "delete_cmd_prefix": "rm(",
     "library": "var_list.r",
     "varRefreshCmd": "cat(var_dic_list()) "
    }
   },
   "types_to_exclude": [
    "module",
    "function",
    "builtin_function_or_method",
    "instance",
    "_Feature"
   ],
   "window_display": false
  }
 },
 "nbformat": 4,
 "nbformat_minor": 2
}
